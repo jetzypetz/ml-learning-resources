{
 "cells": [
  {
   "cell_type": "markdown",
   "metadata": {},
   "source": [
    "Make sure you fill in any place that says `YOUR CODE HERE` or \"YOUR ANSWER HERE\".\n",
    "\n",
    "Before you turn this problem in, make sure everything runs as expected. First, **restart the kernel** (in the menubar, select Kernel$\\rightarrow$Restart) and then **run all cells** (in the menubar, select Cell$\\rightarrow$Run All). On JupyterLab, you may want to hit the \"Validate\" button as well.\n",
    "\n",
    "Caution: do not mess with the notebook's metadata; do not change a pre-existing cell's type; do not copy pre-existing cells (add new ones with the + button instead). This will break autograding; you will get a 0; you are warned."
   ]
  },
  {
   "cell_type": "markdown",
   "metadata": {},
   "source": [
    "<table style=\"width: 100%; border: none;\" cellspacing=\"0\" cellpadding=\"0\" border=\"0\">\n",
    "  <tr>\n",
    "    <td><img src=\"https://www.planetegrandesecoles.com/wp-content/uploads/2021/07/Identite%CC%81-visuelle-Plane%CC%80te-BAC-8-600x398.png\" style=\"float: left; width: 100%\" />\n",
    "</td>\n",
    "    <td><a style=\"font-size: 3em; text-align: center; vertical-align: middle;\" href=\"https://moodle.polytechnique.fr/course/view.php?id=19260\">[CSC2S004EP - 2024] - Introduction to Machine Learning</a>\n",
    "</td>\n",
    "  </tr>\n",
    "</table>"
   ]
  },
  {
   "cell_type": "markdown",
   "metadata": {
    "deletable": false,
    "editable": false,
    "nbgrader": {
     "cell_type": "markdown",
     "checksum": "bacb4346dae948eecb943e71bb8cc8b4",
     "grade": false,
     "grade_id": "cell-a42ec30bdef950fd",
     "locked": true,
     "schema_version": 3,
     "solution": false,
     "task": false
    }
   },
   "source": [
    "<a style=\"font-size: 3em;\">Lab Session 1: Jupyter Notebooks, Pandas, Sklearn basics</a>"
   ]
  },
  {
   "cell_type": "markdown",
   "metadata": {
    "deletable": false,
    "editable": false,
    "nbgrader": {
     "cell_type": "markdown",
     "checksum": "f7785a55b9bb9675d2b0fb76c3155bee",
     "grade": false,
     "grade_id": "cell-516cec3d1bc3d552",
     "locked": true,
     "schema_version": 3,
     "solution": false,
     "task": false
    }
   },
   "source": [
    "# Introduction\n",
    "\n",
    "Welcome to the 1st [CSC2S004EP](https://moodle.polytechnique.fr/course/view.php?id=19260) lab session: *Introduction to Machine Learning*.\n",
    "\n",
    "This lab session assumes you are familiar with the Python programming language.\n",
    "\n",
    "Note that the 1st year courses used scripting/packaging tools (*e.g.* Spyder) and relied on relatively \"low-level\" abstractions (lists, numpy arrays, etc.) and manipulation techniques (*e.g.* `for` loops). While the knowledge of these concepts and tools is mandatory for this course and your future use of Python, we will concentrate in this course respectively on Jupyter Notebooks (more on these later) to write code and \"high-level\", \"more Pythonic\" abstractions (e.g. `pandas`, scikit-learn, plotting libraries) as a coding style.\n",
    "\n",
    "Additional documentation can be found there:\n",
    "- [Python 3 documentation](https://docs.python.org/3/)\n",
    "- [The Python Tutorial](https://docs.python.org/3/tutorial/index.html)\n",
    "- [The Python Standard Library](https://docs.python.org/3/library/index.html)\n",
    "- [The Python Language Reference](https://docs.python.org/3/reference/index.html)\n",
    "\n",
    "# Jupyter Notebooks\n",
    "\n",
    "The document you are reading is a [Jupyter Notebook](https://jupyter.org/).\n",
    "\n",
    "The Jupyter Notebook (formerly IPython Notebooks) is a web-based interactive web application for creating documents that contain live code, equations, visualizations and narrative text. While notebooks represent a good way to build a tutorial or a report, you will still need to rely on more common, scripting IDEs like Spyder or PyCharm, when working on a \"project\" (e.g. by organizing functions in modules to industrialize a data science product).\n",
    "\n",
    "The notebook consists of a sequence of cells. A cell is a multiline text input field, and **its contents can be executed** by using `Shift+Enter`, or by clicking either the `Play` button on the toolbar, or Cell > Run in the menu bar. The execution behavior of a cell is determined by the cell’s type. There are three types of cells: *code cells*, *markdown cells*, and *raw cells*. Every cell starts off being a code cell, but its type can be changed by using a drop-down on the toolbar (which will be “Code”, initially). **As part of this course, DO NOT change the type of a pre-existing cell, DO NOT duplicate a pre-existing cell**. However, you can create and change the type of any new cell.\n",
    "\n",
    "## Code cells\n",
    "\n",
    "A code cell allows you to edit and write new code, with full syntax highlighting and tab completion. The programming language used here is Python.\n",
    "\n",
    "When a code cell is executed, code that it contains is sent to the kernel associated with the notebook. The results that are returned from this computation are then displayed in the notebook as the cell’s output. The output is not limited to text, with many other possible forms of output are also possible, including figures and HTML tables.\n",
    "\n",
    "**Tips**:\n",
    "- press the `Tab` key to use auto completion in code cells\n",
    "- press `Shift+Tab` to display the documentation of the current object (the one on witch the cursor is)\n",
    "\n",
    "See e.g. https://miykael.github.io/nipype_tutorial/notebooks/introduction_jupyter-notebook.html\n",
    "\n",
    "## Markdown cells\n",
    "\n",
    "You can document the computational process in a literate way, alternating descriptive text with code, using rich text. In IPython this is accomplished by marking up text with the Markdown language. The corresponding cells are called Markdown cells. The Markdown language provides a simple way to perform this text markup, that is, to specify which parts of the text should be emphasized (italics), bold, form lists, etc. See [this cheatsheet](https://www.edureka.co/blog/wp-content/uploads/2018/10/Jupyter_Notebook_CheatSheet_Edureka.pdf).\n",
    "\n",
    "Markdown cells will also render $\\LaTeX$ code escaped with \\\\$\\LaTeX\\\\$.\n",
    "\n",
    "For more information about Jupyter Notebooks, read its [official documentation](https://jupyter-notebook.readthedocs.io/en/stable/notebook.html#structure-of-a-notebook-document).\n",
    "\n",
    "## Read-only cells\n",
    "\n",
    "Most cells in these assignments have been marked \"read-only\" meaning you will not be able to modify their content, to avoid mistakes and guarantee some reproducibility when grading them. If you need to inspect what is going on inside such a cell, create a new cell and copy over the content that you want to run/inspect.\n",
    "\n",
    "## `NotImplementedError`\n",
    "\n",
    "Whenever you see a (modifiable) cell with a `raise NotImplementedError` instruction, it means you should implement something! This cell will generally be preceded by a Markdown cell explaining what you need to do. The following cell usually contains visible and/or hidden tests (to test your code). If you see (seemingly) empty cells after a code cell where you implemented something, it usually means there are only hidden tests that are run against your code! \n",
    "\n",
    "## Save your work!\n",
    "\n",
    "Don't forget to regularly save your work! There is some autosaving but hitting `Ctrl+S` will ease your mind.\n",
    "\n",
    "## Validate button\n",
    "\n",
    "If you correctly followed the [guidelines to setup your Python environment](https://moodle.polytechnique.fr/mod/page/view.php?id=499510&forceview=1), you should see a \"Validate\" button in the tool bar, next to the Save, +, Scissors, ...\n",
    "Hitting this button, it should turn grey and say \"Validating...\" and show some message at some later point, e.g. \"Success! Your notebook\n",
    "passes all the tests!\". Please use and abuse this button before submitting your assignment on Moodle.\n",
    "\n",
    "## Objectives\n",
    "\n",
    "What we will practice today:\n",
    "- Pandas basics\n",
    "- Making an exploratory analysis on an real dataset\n",
    "- Making a first predictive model for this datase"
   ]
  },
  {
   "cell_type": "markdown",
   "metadata": {
    "deletable": false,
    "editable": false,
    "nbgrader": {
     "cell_type": "markdown",
     "checksum": "b503cf09b47fb5ee32531e2cd93c079a",
     "grade": false,
     "grade_id": "cell-3f86e7508a0fae3b",
     "locked": true,
     "schema_version": 3,
     "solution": false,
     "task": false
    },
    "toc-hr-collapsed": false
   },
   "source": [
    "# Pandas Basics"
   ]
  },
  {
   "cell_type": "markdown",
   "metadata": {
    "deletable": false,
    "editable": false,
    "nbgrader": {
     "cell_type": "markdown",
     "checksum": "d13564c47ca6d9f70926beafa1242732",
     "grade": false,
     "grade_id": "cell-86d07d90a3b7a8bd",
     "locked": true,
     "schema_version": 3,
     "solution": false,
     "task": false
    }
   },
   "source": [
    "[Pandas](http://pandas.pydata.org/) is a popular data analysis toolkit for Python.\n",
    "\n",
    "We will use it to explore data with heterogeneous types and/or missing values.\n",
    "\n",
    "Additional documentation can be found there:\n",
    "- https://pandas.pydata.org/docs/getting_started/index.html\n",
    "- http://pandas.pydata.org/pandas-docs/stable/\n",
    "- https://jakevdp.github.io/PythonDataScienceHandbook/\n",
    "- http://www.jdhp.org/docs/notebook/python_pandas_en.html"
   ]
  },
  {
   "cell_type": "markdown",
   "metadata": {
    "deletable": false,
    "editable": false,
    "nbgrader": {
     "cell_type": "markdown",
     "checksum": "c2bdd141f09bae80b77655247dcc38bf",
     "grade": false,
     "grade_id": "cell-4641eabe78d0e78f",
     "locked": true,
     "schema_version": 3,
     "solution": false,
     "task": false
    }
   },
   "source": [
    "## Import directives"
   ]
  },
  {
   "cell_type": "markdown",
   "metadata": {
    "deletable": false,
    "editable": false,
    "nbgrader": {
     "cell_type": "markdown",
     "checksum": "4bd43ea89fa9f4e5266e055617df5415",
     "grade": false,
     "grade_id": "cell-300ef2e4d8c0b6db",
     "locked": true,
     "schema_version": 3,
     "solution": false,
     "task": false
    }
   },
   "source": [
    "To begin with, let's import the Pandas library as the *pd* alias. Select the following code cell and execute it with the `Shift + Enter` shortcut key.\n",
    "\n",
    "We also import:\n",
    "- Numpy to generate arrays\n",
    "- Seaborn to make plots\n",
    "- Sklearn to learn data\n",
    "- Matplotlib to plot some stuff"
   ]
  },
  {
   "cell_type": "code",
   "execution_count": null,
   "metadata": {
    "deletable": false,
    "editable": false,
    "nbgrader": {
     "cell_type": "code",
     "checksum": "de18c296b1f8edee5031d18ba6b5a154",
     "grade": false,
     "grade_id": "cell-3d16fa76f1c5209f",
     "locked": true,
     "schema_version": 3,
     "solution": false,
     "task": false
    }
   },
   "outputs": [],
   "source": [
    "import numpy as np\n",
    "import pandas as pd\n",
    "import seaborn as sns\n",
    "import matplotlib.pyplot as plt\n",
    "import sklearn"
   ]
  },
  {
   "cell_type": "markdown",
   "metadata": {
    "deletable": false,
    "editable": false,
    "nbgrader": {
     "cell_type": "markdown",
     "checksum": "805cacf975f515ff3689e036e7bcd60a",
     "grade": false,
     "grade_id": "cell-986a7c97b0d96087",
     "locked": true,
     "schema_version": 3,
     "solution": false,
     "task": false
    }
   },
   "source": [
    "## Make DataFrames (2D data)"
   ]
  },
  {
   "cell_type": "markdown",
   "metadata": {
    "deletable": false,
    "editable": false,
    "nbgrader": {
     "cell_type": "markdown",
     "checksum": "8af18329e6f0c5eeee9ee384090618cd",
     "grade": false,
     "grade_id": "cell-b82079b2223d80d4",
     "locked": true,
     "schema_version": 3,
     "solution": false,
     "task": false
    }
   },
   "source": [
    "Let's make a *DataFrame* now. DataFrame is the name given to 2D arrays in Pandas. We will assign this DataFrame to the `df` variable and display it (with the `df` line at the end of the cell).\n",
    "\n",
    "When the data carries a meaning, i.e. comes from a real data source, e.g. the `titanic` dataset that we will load later on consisting in characteristics of passengers of the Titanic, always use explicit names such as `df_titanic`. See [PEP8](https://www.python.org/dev/peps/pep-0008/), a Python code style guide, for details."
   ]
  },
  {
   "cell_type": "code",
   "execution_count": null,
   "metadata": {
    "deletable": false,
    "editable": false,
    "nbgrader": {
     "cell_type": "code",
     "checksum": "610aff496901299de71c9f082e7d1147",
     "grade": false,
     "grade_id": "cell-b08c6de584b6a8a0",
     "locked": true,
     "schema_version": 3,
     "solution": false,
     "task": false
    }
   },
   "outputs": [],
   "source": [
    "data = [[1, 2, 3], [4, 5, 6]]\n",
    "df = pd.DataFrame(data)\n",
    "df"
   ]
  },
  {
   "cell_type": "markdown",
   "metadata": {
    "deletable": false,
    "editable": false,
    "nbgrader": {
     "cell_type": "markdown",
     "checksum": "71c13fe8f72e0ca9dfe63d621359b3f6",
     "grade": false,
     "grade_id": "cell-0be4dc83af591989",
     "locked": true,
     "schema_version": 3,
     "solution": false,
     "task": false
    }
   },
   "source": [
    "The previous command has made a DataFrame with automatic *indices* (rows index) and *columns* (columns label)."
   ]
  },
  {
   "cell_type": "markdown",
   "metadata": {
    "deletable": false,
    "editable": false,
    "nbgrader": {
     "cell_type": "markdown",
     "checksum": "7e83be030eba33d4c7845265a6691765",
     "grade": false,
     "grade_id": "cell-69b0414a80f617f0",
     "locked": true,
     "schema_version": 3,
     "solution": false,
     "task": false
    }
   },
   "source": [
    "To make a DataFrame with a custom index (`pandas` allows to define multiple indices gathered in a `MultiIndex` but this feature will not covered in this course) and custom column names, use:"
   ]
  },
  {
   "cell_type": "code",
   "execution_count": null,
   "metadata": {
    "deletable": false,
    "editable": false,
    "nbgrader": {
     "cell_type": "code",
     "checksum": "464e72d10b5d84404a1125dd5dc9bdbe",
     "grade": false,
     "grade_id": "cell-174be14b3f868157",
     "locked": true,
     "schema_version": 3,
     "solution": false,
     "task": false
    }
   },
   "outputs": [],
   "source": [
    "data = [[1, 2, 3], [4, 5, 6]]\n",
    "index = [10, 20]\n",
    "columns = ['A', 'B', 'C']\n",
    "\n",
    "df = pd.DataFrame(data=data, index=index, columns=columns)\n",
    "df"
   ]
  },
  {
   "cell_type": "markdown",
   "metadata": {
    "deletable": false,
    "editable": false,
    "nbgrader": {
     "cell_type": "markdown",
     "checksum": "0c5c73c08d7a1db1a1de291688678e70",
     "grade": false,
     "grade_id": "cell-a925f3e1af0b3d68",
     "locked": true,
     "schema_version": 3,
     "solution": false,
     "task": false
    }
   },
   "source": [
    "A Python dictionary can be used to define data; its keys define its **columns'** labels."
   ]
  },
  {
   "cell_type": "code",
   "execution_count": null,
   "metadata": {
    "deletable": false,
    "editable": false,
    "nbgrader": {
     "cell_type": "code",
     "checksum": "90534ab7d307d971e54f3369f42f6ce6",
     "grade": false,
     "grade_id": "cell-15900d45ba718299",
     "locked": true,
     "schema_version": 3,
     "solution": false,
     "task": false
    }
   },
   "outputs": [],
   "source": [
    "data_dict = {'A': 'foo',\n",
    "             'B': [10, 20, 30],\n",
    "             'C': 3.14}\n",
    "df = pd.DataFrame(data_dict, index=[10, 20, 30])\n",
    "df"
   ]
  },
  {
   "cell_type": "markdown",
   "metadata": {
    "deletable": false,
    "editable": false,
    "nbgrader": {
     "cell_type": "markdown",
     "checksum": "97eb8a5b7a84e337302298bd4d73dde8",
     "grade": false,
     "grade_id": "cell-146a3be7380e04c4",
     "locked": true,
     "schema_version": 3,
     "solution": false,
     "task": false
    }
   },
   "source": [
    "### Get information about a dataframe"
   ]
  },
  {
   "cell_type": "markdown",
   "metadata": {
    "deletable": false,
    "editable": false,
    "nbgrader": {
     "cell_type": "markdown",
     "checksum": "5b5a542dbdb907c30f6a909f3f7e724c",
     "grade": false,
     "grade_id": "cell-a1d8556f75d12463",
     "locked": true,
     "schema_version": 3,
     "solution": false,
     "task": false
    }
   },
   "source": [
    "Its (row) index (possibly a `MultiIndex`):"
   ]
  },
  {
   "cell_type": "code",
   "execution_count": null,
   "metadata": {
    "deletable": false,
    "editable": false,
    "nbgrader": {
     "cell_type": "code",
     "checksum": "39946b22df910de133c0c7a4df801302",
     "grade": false,
     "grade_id": "cell-c71c133bf20d9a85",
     "locked": true,
     "schema_version": 3,
     "solution": false,
     "task": false
    }
   },
   "outputs": [],
   "source": [
    "df.index"
   ]
  },
  {
   "cell_type": "markdown",
   "metadata": {
    "deletable": false,
    "editable": false,
    "nbgrader": {
     "cell_type": "markdown",
     "checksum": "465eccf9b5d6402c036f2edd102a6da8",
     "grade": false,
     "grade_id": "cell-a7db9eed01271d70",
     "locked": true,
     "schema_version": 3,
     "solution": false,
     "task": false
    }
   },
   "source": [
    "Its columns' labels (also an index!):"
   ]
  },
  {
   "cell_type": "code",
   "execution_count": null,
   "metadata": {
    "deletable": false,
    "editable": false,
    "nbgrader": {
     "cell_type": "code",
     "checksum": "2ce0495f7778f553e7d962c98b0f91fd",
     "grade": false,
     "grade_id": "cell-489270aca70da12f",
     "locked": true,
     "schema_version": 3,
     "solution": false,
     "task": false
    }
   },
   "outputs": [],
   "source": [
    "df.columns"
   ]
  },
  {
   "cell_type": "markdown",
   "metadata": {
    "deletable": false,
    "editable": false,
    "nbgrader": {
     "cell_type": "markdown",
     "checksum": "e8e2132d412ccf954fea6edbf7a3d757",
     "grade": false,
     "grade_id": "cell-b06213ab17afa41b",
     "locked": true,
     "schema_version": 3,
     "solution": false,
     "task": false
    }
   },
   "source": [
    "Its shape (i.e. number of rows and number of columns):"
   ]
  },
  {
   "cell_type": "code",
   "execution_count": null,
   "metadata": {
    "deletable": false,
    "editable": false,
    "nbgrader": {
     "cell_type": "code",
     "checksum": "82799f9df841d0ff13d56caa97b911cd",
     "grade": false,
     "grade_id": "cell-22b06ce8694e7610",
     "locked": true,
     "schema_version": 3,
     "solution": false,
     "task": false
    }
   },
   "outputs": [],
   "source": [
    "df.shape"
   ]
  },
  {
   "cell_type": "markdown",
   "metadata": {
    "deletable": false,
    "editable": false,
    "nbgrader": {
     "cell_type": "markdown",
     "checksum": "8f83365330d197eb4e765a3ad512be41",
     "grade": false,
     "grade_id": "cell-599edf466c17655b",
     "locked": true,
     "schema_version": 3,
     "solution": false,
     "task": false
    }
   },
   "source": [
    "The number of lines in `df` is:"
   ]
  },
  {
   "cell_type": "code",
   "execution_count": null,
   "metadata": {
    "deletable": false,
    "editable": false,
    "nbgrader": {
     "cell_type": "code",
     "checksum": "8890753359c3bc1496c7d3efdd0e75e1",
     "grade": false,
     "grade_id": "cell-bff0e06cb87ad7e2",
     "locked": true,
     "schema_version": 3,
     "solution": false,
     "task": false
    }
   },
   "outputs": [],
   "source": [
    "df.shape[0]"
   ]
  },
  {
   "cell_type": "markdown",
   "metadata": {
    "deletable": false,
    "editable": false,
    "nbgrader": {
     "cell_type": "markdown",
     "checksum": "2b05cd122f4187e7d55a8e7fb5c5e13b",
     "grade": false,
     "grade_id": "cell-c6c018de5ab5e6fa",
     "locked": true,
     "schema_version": 3,
     "solution": false,
     "task": false
    }
   },
   "source": [
    "Or equivalently:"
   ]
  },
  {
   "cell_type": "code",
   "execution_count": null,
   "metadata": {
    "deletable": false,
    "editable": false,
    "nbgrader": {
     "cell_type": "code",
     "checksum": "a64eb5c23eefe48c380e341273e2d8b3",
     "grade": false,
     "grade_id": "cell-52266181127ab24c",
     "locked": true,
     "schema_version": 3,
     "solution": false,
     "task": false
    }
   },
   "outputs": [],
   "source": [
    "len(df)"
   ]
  },
  {
   "cell_type": "markdown",
   "metadata": {
    "deletable": false,
    "editable": false,
    "nbgrader": {
     "cell_type": "markdown",
     "checksum": "aa6985a5ba9570f67dee365b25695e30",
     "grade": false,
     "grade_id": "cell-35a8ae7437ad3662",
     "locked": true,
     "schema_version": 3,
     "solution": false,
     "task": false
    }
   },
   "source": [
    "The number of columns in `df` is:"
   ]
  },
  {
   "cell_type": "code",
   "execution_count": null,
   "metadata": {
    "deletable": false,
    "editable": false,
    "nbgrader": {
     "cell_type": "code",
     "checksum": "f83afb5d597c5f6549a1f90e04802a3d",
     "grade": false,
     "grade_id": "cell-5b3a81fddd7230d0",
     "locked": true,
     "schema_version": 3,
     "solution": false,
     "task": false
    }
   },
   "outputs": [],
   "source": [
    "df.shape[1]"
   ]
  },
  {
   "cell_type": "markdown",
   "metadata": {
    "deletable": false,
    "editable": false,
    "nbgrader": {
     "cell_type": "markdown",
     "checksum": "dbff0f87d074d5cbb4366a9956da3d87",
     "grade": false,
     "grade_id": "cell-b96b1a6fbc5480fe",
     "locked": true,
     "schema_version": 3,
     "solution": false,
     "task": false
    }
   },
   "source": [
    "The data type of each column:"
   ]
  },
  {
   "cell_type": "code",
   "execution_count": null,
   "metadata": {
    "deletable": false,
    "editable": false,
    "nbgrader": {
     "cell_type": "code",
     "checksum": "29494be097c563b05242888b48f1723e",
     "grade": false,
     "grade_id": "cell-8ed7f4141cf94f41",
     "locked": true,
     "schema_version": 3,
     "solution": false,
     "task": false
    }
   },
   "outputs": [],
   "source": [
    "df.dtypes"
   ]
  },
  {
   "cell_type": "markdown",
   "metadata": {
    "deletable": false,
    "editable": false,
    "nbgrader": {
     "cell_type": "markdown",
     "checksum": "36a32be0b5b645066f583b6b5510fe34",
     "grade": false,
     "grade_id": "cell-f5fe8b97d3cb5e1a",
     "locked": true,
     "schema_version": 3,
     "solution": false,
     "task": false
    }
   },
   "source": [
    "Additional information about columns:"
   ]
  },
  {
   "cell_type": "code",
   "execution_count": null,
   "metadata": {
    "deletable": false,
    "editable": false,
    "nbgrader": {
     "cell_type": "code",
     "checksum": "3ed482df41a44afb67d68cefda31c270",
     "grade": false,
     "grade_id": "cell-842675c6b357c4f7",
     "locked": true,
     "schema_version": 3,
     "solution": false,
     "task": false
    }
   },
   "outputs": [],
   "source": [
    "df.info()"
   ]
  },
  {
   "cell_type": "code",
   "execution_count": null,
   "metadata": {
    "deletable": false,
    "editable": false,
    "nbgrader": {
     "cell_type": "code",
     "checksum": "6ff90192f07b103ce35d986ebefe0ccf",
     "grade": false,
     "grade_id": "cell-da9028ee43535648",
     "locked": true,
     "schema_version": 3,
     "solution": false,
     "task": false
    }
   },
   "outputs": [],
   "source": [
    "df.describe()"
   ]
  },
  {
   "cell_type": "markdown",
   "metadata": {
    "deletable": false,
    "editable": false,
    "nbgrader": {
     "cell_type": "markdown",
     "checksum": "57b13970f31f9bae78b84f4fa0a1e351",
     "grade": false,
     "grade_id": "cell-2d962e004939bb55",
     "locked": true,
     "schema_version": 3,
     "solution": false,
     "task": false
    },
    "toc-hr-collapsed": false
   },
   "source": [
    "### Select a single column"
   ]
  },
  {
   "cell_type": "markdown",
   "metadata": {
    "deletable": false,
    "editable": false,
    "nbgrader": {
     "cell_type": "markdown",
     "checksum": "e6fc651a624f2de9e1895ed5330c59ae",
     "grade": false,
     "grade_id": "cell-6b7f023778531406",
     "locked": true,
     "schema_version": 3,
     "solution": false,
     "task": false
    }
   },
   "source": [
    "Here are 3 equivalent syntaxes to get the column \"C\":"
   ]
  },
  {
   "cell_type": "code",
   "execution_count": null,
   "metadata": {
    "deletable": false,
    "editable": false,
    "nbgrader": {
     "cell_type": "code",
     "checksum": "64ec7a4df94511ecd855710455e85b67",
     "grade": false,
     "grade_id": "cell-397253aecca541ca",
     "locked": true,
     "schema_version": 3,
     "solution": false,
     "task": false
    }
   },
   "outputs": [],
   "source": [
    "df.C"
   ]
  },
  {
   "cell_type": "code",
   "execution_count": null,
   "metadata": {
    "deletable": false,
    "editable": false,
    "nbgrader": {
     "cell_type": "code",
     "checksum": "de99df980269bbcb95ad2e1ef3b6a69d",
     "grade": false,
     "grade_id": "cell-103389a11fccb68e",
     "locked": true,
     "schema_version": 3,
     "solution": false,
     "task": false
    }
   },
   "outputs": [],
   "source": [
    "df[\"C\"]"
   ]
  },
  {
   "cell_type": "code",
   "execution_count": null,
   "metadata": {
    "deletable": false,
    "editable": false,
    "nbgrader": {
     "cell_type": "code",
     "checksum": "15eebd0b1980fa9aac83266e3a01bd70",
     "grade": false,
     "grade_id": "cell-e29aa58783be7151",
     "locked": true,
     "schema_version": 3,
     "solution": false,
     "task": false
    }
   },
   "outputs": [],
   "source": [
    "df.loc[:, \"C\"]"
   ]
  },
  {
   "cell_type": "markdown",
   "metadata": {
    "deletable": false,
    "editable": false,
    "nbgrader": {
     "cell_type": "markdown",
     "checksum": "b66ed735f1635a5c3ab504829681008a",
     "grade": false,
     "grade_id": "cell-ab67c455bd214afe",
     "locked": true,
     "schema_version": 3,
     "solution": false,
     "task": false
    }
   },
   "source": [
    "Note that a \"column\" corresponds to a `pandas.Series` object:"
   ]
  },
  {
   "cell_type": "code",
   "execution_count": null,
   "metadata": {
    "deletable": false,
    "editable": false,
    "nbgrader": {
     "cell_type": "code",
     "checksum": "86d734d89d782d4c50fb737c25f3cb1f",
     "grade": false,
     "grade_id": "cell-5688042e5281bb53",
     "locked": true,
     "schema_version": 3,
     "solution": false,
     "task": false
    }
   },
   "outputs": [],
   "source": [
    "type(df[\"C\"])"
   ]
  },
  {
   "cell_type": "markdown",
   "metadata": {
    "deletable": false,
    "editable": false,
    "nbgrader": {
     "cell_type": "markdown",
     "checksum": "e6cd587924d7c9fb759cc379bc000d53",
     "grade": false,
     "grade_id": "cell-f93e854e79038a40",
     "locked": true,
     "schema_version": 3,
     "solution": false,
     "task": false
    }
   },
   "source": [
    "Selecting multiple columns, or a list containing at least one column, will output a `pandas.DataFrame`. This is subtle but may be the cause of subsequent errors."
   ]
  },
  {
   "cell_type": "code",
   "execution_count": null,
   "metadata": {
    "deletable": false,
    "editable": false,
    "nbgrader": {
     "cell_type": "code",
     "checksum": "54fadfa5eead320b991c85e1d4253681",
     "grade": false,
     "grade_id": "cell-cb27ec78f1121747",
     "locked": true,
     "schema_version": 3,
     "solution": false,
     "task": false
    }
   },
   "outputs": [],
   "source": [
    "df[[\"C\"]]"
   ]
  },
  {
   "cell_type": "code",
   "execution_count": null,
   "metadata": {
    "deletable": false,
    "editable": false,
    "nbgrader": {
     "cell_type": "code",
     "checksum": "8e4873283f99f3bbdc1b0515c54d7b5c",
     "grade": false,
     "grade_id": "cell-16b6050355216c67",
     "locked": true,
     "schema_version": 3,
     "solution": false,
     "task": false
    }
   },
   "outputs": [],
   "source": [
    "type(df[[\"C\"]])"
   ]
  },
  {
   "cell_type": "markdown",
   "metadata": {
    "deletable": false,
    "editable": false,
    "nbgrader": {
     "cell_type": "markdown",
     "checksum": "b89e7e7bd33399d7f04356572d0191e4",
     "grade": false,
     "grade_id": "cell-5e571144c26c27e0",
     "locked": true,
     "schema_version": 3,
     "solution": false,
     "task": false
    }
   },
   "source": [
    "### Select multiple columns"
   ]
  },
  {
   "cell_type": "markdown",
   "metadata": {
    "deletable": false,
    "editable": false,
    "nbgrader": {
     "cell_type": "markdown",
     "checksum": "fb116a5f5fa4edeb28e5c69449be4bcd",
     "grade": false,
     "grade_id": "cell-4c61c12d5c9078d9",
     "locked": true,
     "schema_version": 3,
     "solution": false,
     "task": false
    }
   },
   "source": [
    "Here are 2 equivalent syntaxes to get both columns \"A\" and \"B\":"
   ]
  },
  {
   "cell_type": "code",
   "execution_count": null,
   "metadata": {
    "deletable": false,
    "editable": false,
    "nbgrader": {
     "cell_type": "code",
     "checksum": "fd638cc90138c993d2b2763e1d531579",
     "grade": false,
     "grade_id": "cell-aebc96bb79ed89bf",
     "locked": true,
     "schema_version": 3,
     "solution": false,
     "task": false
    }
   },
   "outputs": [],
   "source": [
    "df[['A', 'B']]"
   ]
  },
  {
   "cell_type": "code",
   "execution_count": null,
   "metadata": {
    "deletable": false,
    "editable": false,
    "nbgrader": {
     "cell_type": "code",
     "checksum": "8e78a01843299c47d2fe6f2e78e9c10d",
     "grade": false,
     "grade_id": "cell-ae92ccb7395dea42",
     "locked": true,
     "schema_version": 3,
     "solution": false,
     "task": false
    }
   },
   "outputs": [],
   "source": [
    "df.loc[:, ['A', 'B']]"
   ]
  },
  {
   "cell_type": "markdown",
   "metadata": {
    "deletable": false,
    "editable": false,
    "nbgrader": {
     "cell_type": "markdown",
     "checksum": "f286cc053fadf6849829bf5cf8eb2bf3",
     "grade": false,
     "grade_id": "cell-a49f91201a810578",
     "locked": true,
     "schema_version": 3,
     "solution": false,
     "task": false
    }
   },
   "source": [
    "### Select a single row"
   ]
  },
  {
   "cell_type": "code",
   "execution_count": null,
   "metadata": {
    "deletable": false,
    "editable": false,
    "nbgrader": {
     "cell_type": "code",
     "checksum": "37495d93d7755e3d86e9079a8e5e0122",
     "grade": false,
     "grade_id": "cell-c56c3f1a6c81df4c",
     "locked": true,
     "schema_version": 3,
     "solution": false,
     "task": false
    }
   },
   "outputs": [],
   "source": [
    "df.loc[10]"
   ]
  },
  {
   "cell_type": "code",
   "execution_count": null,
   "metadata": {
    "deletable": false,
    "editable": false,
    "nbgrader": {
     "cell_type": "code",
     "checksum": "cc7d469623a398d244994781b9e98fca",
     "grade": false,
     "grade_id": "cell-bdd8f5799ce1df99",
     "locked": true,
     "schema_version": 3,
     "solution": false,
     "task": false
    }
   },
   "outputs": [],
   "source": [
    "df.loc[10, :]"
   ]
  },
  {
   "cell_type": "markdown",
   "metadata": {
    "deletable": false,
    "editable": false,
    "nbgrader": {
     "cell_type": "markdown",
     "checksum": "02353f8325789636766bc318d4b90280",
     "grade": false,
     "grade_id": "cell-d8a1fec0c5eff738",
     "locked": true,
     "schema_version": 3,
     "solution": false,
     "task": false
    }
   },
   "source": [
    "Note that again, the result being a \"vector\", the output is of type `pandas.Series`:"
   ]
  },
  {
   "cell_type": "code",
   "execution_count": null,
   "metadata": {
    "deletable": false,
    "editable": false,
    "nbgrader": {
     "cell_type": "code",
     "checksum": "4e805dce24164e9f7b467eade57e3046",
     "grade": false,
     "grade_id": "cell-f504756a0f5dfdda",
     "locked": true,
     "schema_version": 3,
     "solution": false,
     "task": false
    }
   },
   "outputs": [],
   "source": [
    "type(df.loc[10, :])"
   ]
  },
  {
   "cell_type": "markdown",
   "metadata": {
    "deletable": false,
    "editable": false,
    "nbgrader": {
     "cell_type": "markdown",
     "checksum": "8ca20285aec887d00fc0aca693c9ef2d",
     "grade": false,
     "grade_id": "cell-ff8b64320b1a257d",
     "locked": true,
     "schema_version": 3,
     "solution": false,
     "task": false
    }
   },
   "source": [
    "### Select multiple rows"
   ]
  },
  {
   "cell_type": "code",
   "execution_count": null,
   "metadata": {
    "deletable": false,
    "editable": false,
    "nbgrader": {
     "cell_type": "code",
     "checksum": "16c692091f1a920bf5c78088f28716c2",
     "grade": false,
     "grade_id": "cell-66f118fa097a3284",
     "locked": true,
     "schema_version": 3,
     "solution": false,
     "task": false
    }
   },
   "outputs": [],
   "source": [
    "df.loc[[10, 20], :]"
   ]
  },
  {
   "cell_type": "markdown",
   "metadata": {
    "deletable": false,
    "editable": false,
    "nbgrader": {
     "cell_type": "markdown",
     "checksum": "c9bea5cd8cfed0939b1813483ce3c477",
     "grade": false,
     "grade_id": "cell-ad8dfd9df6feae45",
     "locked": true,
     "schema_version": 3,
     "solution": false,
     "task": false
    }
   },
   "source": [
    "### Select rows based on values"
   ]
  },
  {
   "cell_type": "code",
   "execution_count": null,
   "metadata": {
    "deletable": false,
    "editable": false,
    "nbgrader": {
     "cell_type": "code",
     "checksum": "2ec28dbb230db803cd7ab1a355c29162",
     "grade": false,
     "grade_id": "cell-b03fd24aa2e2941d",
     "locked": true,
     "schema_version": 3,
     "solution": false,
     "task": false
    }
   },
   "outputs": [],
   "source": [
    "df.B < 30.  # this is a Series"
   ]
  },
  {
   "cell_type": "code",
   "execution_count": null,
   "metadata": {
    "deletable": false,
    "editable": false,
    "nbgrader": {
     "cell_type": "code",
     "checksum": "0b2e85e7089e2cb6b8d318239f1a753d",
     "grade": false,
     "grade_id": "cell-28fbfeabfaa3a063",
     "locked": true,
     "schema_version": 3,
     "solution": false,
     "task": false
    }
   },
   "outputs": [],
   "source": [
    "df.loc[df.B < 30.]  # this is a DataFrame"
   ]
  },
  {
   "cell_type": "code",
   "execution_count": null,
   "metadata": {
    "deletable": false,
    "editable": false,
    "nbgrader": {
     "cell_type": "code",
     "checksum": "827fd85c84959b86ccc17cbc9ee2f6ce",
     "grade": false,
     "grade_id": "cell-f878f24fe27867d2",
     "locked": true,
     "schema_version": 3,
     "solution": false,
     "task": false
    }
   },
   "outputs": [],
   "source": [
    "df.loc[(df.B < 20) | (df.B >= 30)]"
   ]
  },
  {
   "cell_type": "code",
   "execution_count": null,
   "metadata": {
    "deletable": false,
    "editable": false,
    "nbgrader": {
     "cell_type": "code",
     "checksum": "9f941b4bd90d49c88d4e5864b26202a2",
     "grade": false,
     "grade_id": "cell-2a53b9c345aeb955",
     "locked": true,
     "schema_version": 3,
     "solution": false,
     "task": false
    }
   },
   "outputs": [],
   "source": [
    "df.loc[(df.B >= 20) & (df.B < 30)]"
   ]
  },
  {
   "cell_type": "markdown",
   "metadata": {
    "deletable": false,
    "editable": false,
    "nbgrader": {
     "cell_type": "markdown",
     "checksum": "176cbfcc898fea5c77d4c8473f271c5f",
     "grade": false,
     "grade_id": "cell-46af6e67d23bee6b",
     "locked": true,
     "schema_version": 3,
     "solution": false,
     "task": false
    }
   },
   "source": [
    "### Select rows and columns"
   ]
  },
  {
   "cell_type": "code",
   "execution_count": null,
   "metadata": {
    "deletable": false,
    "editable": false,
    "nbgrader": {
     "cell_type": "code",
     "checksum": "8b401dd952b70f575900e1cd5a5c1933",
     "grade": false,
     "grade_id": "cell-96aca1527770d64d",
     "locked": true,
     "schema_version": 3,
     "solution": false,
     "task": false
    }
   },
   "outputs": [],
   "source": [
    "df.loc[(df.B < 20) | (df.B >= 30), 'C']  # this is a Series"
   ]
  },
  {
   "cell_type": "code",
   "execution_count": null,
   "metadata": {
    "deletable": false,
    "editable": false,
    "nbgrader": {
     "cell_type": "code",
     "checksum": "afb82deafe1a5a8b01f3eea8460b879f",
     "grade": false,
     "grade_id": "cell-e801e05f1fddd2c3",
     "locked": true,
     "schema_version": 3,
     "solution": false,
     "task": false
    }
   },
   "outputs": [],
   "source": [
    "df.loc[(df.B < 20) | (df.B >= 30), ['A', 'B']]  # this is a DataFrame"
   ]
  },
  {
   "cell_type": "markdown",
   "metadata": {
    "deletable": false,
    "editable": false,
    "nbgrader": {
     "cell_type": "markdown",
     "checksum": "82542dc49c9349d66a49210862453797",
     "grade": false,
     "grade_id": "cell-9dddf820f0eb8374",
     "locked": true,
     "schema_version": 3,
     "solution": false,
     "task": false
    }
   },
   "source": [
    "### Select columns based on a condition"
   ]
  },
  {
   "cell_type": "markdown",
   "metadata": {
    "deletable": false,
    "editable": false,
    "nbgrader": {
     "cell_type": "markdown",
     "checksum": "eacec2b82663915d4f4c164b9d31a6d5",
     "grade": false,
     "grade_id": "cell-cdc69bc52057fbc8",
     "locked": true,
     "schema_version": 3,
     "solution": false,
     "task": false
    }
   },
   "source": [
    "Which column of the 10th line (starting from the Oth) takes value `'foo'`?"
   ]
  },
  {
   "cell_type": "code",
   "execution_count": null,
   "metadata": {
    "deletable": false,
    "editable": false,
    "nbgrader": {
     "cell_type": "code",
     "checksum": "0dfd15a42c1944678578f1bbf9f35030",
     "grade": false,
     "grade_id": "cell-e3cbeb1691d42adb",
     "locked": true,
     "schema_version": 3,
     "solution": false,
     "task": false
    }
   },
   "outputs": [],
   "source": [
    "df.loc[10] == 'foo'"
   ]
  },
  {
   "cell_type": "markdown",
   "metadata": {
    "deletable": false,
    "editable": false,
    "nbgrader": {
     "cell_type": "markdown",
     "checksum": "248316dcf52f477b01c71f222a5c9999",
     "grade": false,
     "grade_id": "cell-5be432afc6dd2acb",
     "locked": true,
     "schema_version": 3,
     "solution": false,
     "task": false
    }
   },
   "source": [
    "Of those, which value(s) are `True`?\n",
    "\n",
    "**The 0th**"
   ]
  },
  {
   "cell_type": "code",
   "execution_count": null,
   "metadata": {
    "deletable": false,
    "editable": false,
    "nbgrader": {
     "cell_type": "code",
     "checksum": "f393041a263272069c594190133eab5d",
     "grade": false,
     "grade_id": "cell-a6664061365ad56e",
     "locked": true,
     "schema_version": 3,
     "solution": false,
     "task": false
    }
   },
   "outputs": [],
   "source": [
    "np.where(df.loc[10] == 'foo')"
   ]
  },
  {
   "cell_type": "markdown",
   "metadata": {
    "deletable": false,
    "editable": false,
    "nbgrader": {
     "cell_type": "markdown",
     "checksum": "908d55e60fee643c5e4b52db8fc28458",
     "grade": false,
     "grade_id": "cell-7fbfd08799ff6ebe",
     "locked": true,
     "schema_version": 3,
     "solution": false,
     "task": false
    }
   },
   "source": [
    "To which column name (or `Index`) does column 0 correspond?"
   ]
  },
  {
   "cell_type": "code",
   "execution_count": null,
   "metadata": {
    "deletable": false,
    "editable": false,
    "nbgrader": {
     "cell_type": "code",
     "checksum": "b6b68638b1264bb37a3b600c8b521b84",
     "grade": false,
     "grade_id": "cell-dc573670bfbe2221",
     "locked": true,
     "schema_version": 3,
     "solution": false,
     "task": false
    }
   },
   "outputs": [],
   "source": [
    "df.columns[np.where(df.loc[10] == 'foo')]"
   ]
  },
  {
   "cell_type": "code",
   "execution_count": null,
   "metadata": {
    "deletable": false,
    "editable": false,
    "nbgrader": {
     "cell_type": "code",
     "checksum": "bc5664b2f2ab38d3df3ee4840584b6f8",
     "grade": false,
     "grade_id": "cell-b7d70583d40e5dfa",
     "locked": true,
     "schema_version": 3,
     "solution": false,
     "task": false
    }
   },
   "outputs": [],
   "source": [
    "df.columns[np.where(df.loc[10] == 'foo')].to_list()"
   ]
  },
  {
   "cell_type": "markdown",
   "metadata": {
    "deletable": false,
    "editable": false,
    "nbgrader": {
     "cell_type": "markdown",
     "checksum": "3944eac18b340a4538771f40d9ef8531",
     "grade": false,
     "grade_id": "cell-aa19e2c2683ad484",
     "locked": true,
     "schema_version": 3,
     "solution": false,
     "task": false
    }
   },
   "source": [
    "### Apply a function to selected columns' values"
   ]
  },
  {
   "cell_type": "code",
   "execution_count": null,
   "metadata": {
    "deletable": false,
    "editable": false,
    "nbgrader": {
     "cell_type": "code",
     "checksum": "7c10125aadf9873adfc00fc95e994cd4",
     "grade": false,
     "grade_id": "cell-8d6e93f431856cf9",
     "locked": true,
     "schema_version": 3,
     "solution": false,
     "task": false
    }
   },
   "outputs": [],
   "source": [
    "df.B *= 2.\n",
    "df"
   ]
  },
  {
   "cell_type": "code",
   "execution_count": null,
   "metadata": {
    "deletable": false,
    "editable": false,
    "nbgrader": {
     "cell_type": "code",
     "checksum": "a6faf046582e38925ac8df2757190763",
     "grade": false,
     "grade_id": "cell-35f9868f2349225e",
     "locked": true,
     "schema_version": 3,
     "solution": false,
     "task": false
    }
   },
   "outputs": [],
   "source": [
    "df.B = pow(df.B, 2)\n",
    "df"
   ]
  },
  {
   "cell_type": "markdown",
   "metadata": {
    "deletable": false,
    "editable": false,
    "nbgrader": {
     "cell_type": "markdown",
     "checksum": "9e48567ebf4977aab64038b505addc40",
     "grade": false,
     "grade_id": "cell-6f9086f8007622bb",
     "locked": true,
     "schema_version": 3,
     "solution": false,
     "task": false
    }
   },
   "source": [
    "### Apply a function to selected rows' values"
   ]
  },
  {
   "cell_type": "code",
   "execution_count": null,
   "metadata": {
    "deletable": false,
    "editable": false,
    "nbgrader": {
     "cell_type": "code",
     "checksum": "96e3039676ee58eb3e44ed2c244d2e1e",
     "grade": false,
     "grade_id": "cell-3df6701fb44a2510",
     "locked": true,
     "schema_version": 3,
     "solution": false,
     "task": false
    }
   },
   "outputs": [],
   "source": [
    "df.loc[df.B < 500., 'A'] = -1\n",
    "df"
   ]
  },
  {
   "cell_type": "code",
   "execution_count": null,
   "metadata": {
    "deletable": false,
    "editable": false,
    "nbgrader": {
     "cell_type": "code",
     "checksum": "6a2b68307f3fdd497f7e424da30bbb19",
     "grade": false,
     "grade_id": "cell-30b2e7fadc38a15f",
     "locked": true,
     "schema_version": 3,
     "solution": false,
     "task": false
    }
   },
   "outputs": [],
   "source": [
    "df.loc[(df.B < 500.) | (df.B > 2000), 'C'] = 0\n",
    "df"
   ]
  },
  {
   "cell_type": "markdown",
   "metadata": {
    "deletable": false,
    "editable": false,
    "nbgrader": {
     "cell_type": "markdown",
     "checksum": "a270ea8f5a9f20d85c5a9a3fad8b8a90",
     "grade": false,
     "grade_id": "cell-5123ad0b89bc830f",
     "locked": true,
     "schema_version": 3,
     "solution": false,
     "task": false
    }
   },
   "source": [
    "### Handling missing data"
   ]
  },
  {
   "cell_type": "markdown",
   "metadata": {
    "deletable": false,
    "editable": false,
    "nbgrader": {
     "cell_type": "markdown",
     "checksum": "7837e41570a02aa774333778a1380703",
     "grade": false,
     "grade_id": "cell-ceaafa90dd209076",
     "locked": true,
     "schema_version": 3,
     "solution": false,
     "task": false
    }
   },
   "source": [
    "Missing data are represented by a *NaN* (\"Not a Number\")."
   ]
  },
  {
   "cell_type": "code",
   "execution_count": null,
   "metadata": {
    "deletable": false,
    "editable": false,
    "nbgrader": {
     "cell_type": "code",
     "checksum": "ad7d9c3259f3b2377ca5a14b6c937b8c",
     "grade": false,
     "grade_id": "cell-de16ed1b370a2d8f",
     "locked": true,
     "schema_version": 3,
     "solution": false,
     "task": false
    }
   },
   "outputs": [],
   "source": [
    "# equivalently, use np.nan\n",
    "data = [[3, 2, 3],\n",
    "        [float(\"nan\"), 4, 4],\n",
    "        [5, float(\"nan\"), 5],\n",
    "        [float(\"nan\"), 3, 6],\n",
    "        [7, 1, 1]]\n",
    "df = pd.DataFrame(data, columns=['A', 'B', 'C'])\n",
    "df"
   ]
  },
  {
   "cell_type": "markdown",
   "metadata": {
    "deletable": false,
    "editable": false,
    "nbgrader": {
     "cell_type": "markdown",
     "checksum": "c64b78a27bf367e73a2309024993f580",
     "grade": false,
     "grade_id": "cell-a5223ccab56e101c",
     "locked": true,
     "schema_version": 3,
     "solution": false,
     "task": false
    }
   },
   "source": [
    "To obtain the boolean mask where values are NaN, type:"
   ]
  },
  {
   "cell_type": "code",
   "execution_count": null,
   "metadata": {
    "deletable": false,
    "editable": false,
    "nbgrader": {
     "cell_type": "code",
     "checksum": "2eab28caa91dbb0422b7c81525b5bf3e",
     "grade": false,
     "grade_id": "cell-37a9abea305213cc",
     "locked": true,
     "schema_version": 3,
     "solution": false,
     "task": false
    }
   },
   "outputs": [],
   "source": [
    "df.isnull()"
   ]
  },
  {
   "cell_type": "markdown",
   "metadata": {
    "deletable": false,
    "editable": false,
    "nbgrader": {
     "cell_type": "markdown",
     "checksum": "604b8c9d49906dba1f040ad9b2c32f72",
     "grade": false,
     "grade_id": "cell-c8c2030d7e405e53",
     "locked": true,
     "schema_version": 3,
     "solution": false,
     "task": false
    }
   },
   "source": [
    "To drop any rows that have missing data:"
   ]
  },
  {
   "cell_type": "code",
   "execution_count": null,
   "metadata": {
    "deletable": false,
    "editable": false,
    "nbgrader": {
     "cell_type": "code",
     "checksum": "29ff92c80b91cafdc4bca8f653f96083",
     "grade": false,
     "grade_id": "cell-d5ca8b01b200f25c",
     "locked": true,
     "schema_version": 3,
     "solution": false,
     "task": false
    }
   },
   "outputs": [],
   "source": [
    "df.dropna()"
   ]
  },
  {
   "cell_type": "markdown",
   "metadata": {
    "deletable": false,
    "editable": false,
    "nbgrader": {
     "cell_type": "markdown",
     "checksum": "da0d00ab2f7c1cd2f66e92d5910fdb51",
     "grade": false,
     "grade_id": "cell-6125f158d569425f",
     "locked": true,
     "schema_version": 3,
     "solution": false,
     "task": false
    }
   },
   "source": [
    "Note: this does not replace df (as suggested by the fact that a DataFrame is printed: something is returned!)."
   ]
  },
  {
   "cell_type": "code",
   "execution_count": null,
   "metadata": {
    "deletable": false,
    "editable": false,
    "nbgrader": {
     "cell_type": "code",
     "checksum": "1eb08eb0d36412cb0dfb5d622c305557",
     "grade": false,
     "grade_id": "cell-ae56aca6f51aa1c8",
     "locked": true,
     "schema_version": 3,
     "solution": false,
     "task": false
    }
   },
   "outputs": [],
   "source": [
    "df"
   ]
  },
  {
   "cell_type": "markdown",
   "metadata": {
    "deletable": false,
    "editable": false,
    "nbgrader": {
     "cell_type": "markdown",
     "checksum": "f327b5759892206a4994899e9c96ec13",
     "grade": false,
     "grade_id": "cell-7af138fb630277a1",
     "locked": true,
     "schema_version": 3,
     "solution": false,
     "task": false
    }
   },
   "source": [
    "If you wish to overwrite `df`, you may reassign (`df = ...`) or use `inplace=True` (common to lots of `pandas`' methods)."
   ]
  },
  {
   "cell_type": "markdown",
   "metadata": {
    "deletable": false,
    "editable": false,
    "nbgrader": {
     "cell_type": "markdown",
     "checksum": "df2a5b14bee0d6c4c9cf9c857dfbbee4",
     "grade": false,
     "grade_id": "cell-ec065168372532b5",
     "locked": true,
     "schema_version": 3,
     "solution": false,
     "task": false
    }
   },
   "source": [
    "To fill missing data with a chosen value (e.g. 999):"
   ]
  },
  {
   "cell_type": "code",
   "execution_count": null,
   "metadata": {
    "deletable": false,
    "editable": false,
    "nbgrader": {
     "cell_type": "code",
     "checksum": "ad6e5a7584e319654f93d4aa27ede502",
     "grade": false,
     "grade_id": "cell-1c5dc2737cb41401",
     "locked": true,
     "schema_version": 3,
     "solution": false,
     "task": false
    }
   },
   "outputs": [],
   "source": [
    "df.fillna(value=999)  # Again, this returns a new DataFrame"
   ]
  },
  {
   "cell_type": "markdown",
   "metadata": {
    "deletable": false,
    "editable": false,
    "nbgrader": {
     "cell_type": "markdown",
     "checksum": "353561f8b6427b0b42028f4e10e071ba",
     "grade": false,
     "grade_id": "cell-1993793d8e389069",
     "locked": true,
     "schema_version": 3,
     "solution": false,
     "task": false
    }
   },
   "source": [
    "To count the number of NaN values in a given column:"
   ]
  },
  {
   "cell_type": "code",
   "execution_count": null,
   "metadata": {
    "deletable": false,
    "editable": false,
    "nbgrader": {
     "cell_type": "code",
     "checksum": "afe9b37a64176507041cc9653b391eae",
     "grade": false,
     "grade_id": "cell-50b0a85dccfd2add",
     "locked": true,
     "schema_version": 3,
     "solution": false,
     "task": false
    }
   },
   "outputs": [],
   "source": [
    "df.isnull().sum()"
   ]
  },
  {
   "cell_type": "markdown",
   "metadata": {
    "deletable": false,
    "editable": false,
    "nbgrader": {
     "cell_type": "markdown",
     "checksum": "52b912307f3557cba48866c8d748c822",
     "grade": false,
     "grade_id": "cell-1a40e5f3d2a846bb",
     "locked": true,
     "schema_version": 3,
     "solution": false,
     "task": false
    }
   },
   "source": [
    "The `axis` keyword (common to lots of `pandas`' methods) allows to do the summation on each line rather than by column:"
   ]
  },
  {
   "cell_type": "code",
   "execution_count": null,
   "metadata": {
    "deletable": false,
    "editable": false,
    "nbgrader": {
     "cell_type": "code",
     "checksum": "8ea73b998113fe91b1c1f8e0b0226b68",
     "grade": false,
     "grade_id": "cell-9f12725e69f935e3",
     "locked": true,
     "schema_version": 3,
     "solution": false,
     "task": false
    }
   },
   "outputs": [],
   "source": [
    "df.isnull().sum(axis=1)"
   ]
  },
  {
   "cell_type": "markdown",
   "metadata": {
    "deletable": false,
    "editable": false,
    "nbgrader": {
     "cell_type": "markdown",
     "checksum": "c820600e816df017a4c845322bf926df",
     "grade": false,
     "grade_id": "cell-f5038f5df5ead0d1",
     "locked": true,
     "schema_version": 3,
     "solution": false,
     "task": false
    }
   },
   "source": [
    "### Exercice 1"
   ]
  },
  {
   "cell_type": "code",
   "execution_count": null,
   "metadata": {
    "deletable": false,
    "editable": false,
    "nbgrader": {
     "cell_type": "code",
     "checksum": "957777e4b51083560d443a54db9829bf",
     "grade": false,
     "grade_id": "cell-61b18316749177ad",
     "locked": true,
     "schema_version": 3,
     "solution": false,
     "task": false
    }
   },
   "outputs": [],
   "source": [
    "df = pd.DataFrame([[i + j * 10 for i in range(10)] for j in range(20)],\n",
    "                  columns=[\"A\", \"B\", \"C\", \"D\", \"E\", \"F\", \"G\", \"H\", \"I\", \"J\"])\n",
    "df"
   ]
  },
  {
   "cell_type": "markdown",
   "metadata": {
    "deletable": false,
    "editable": false,
    "nbgrader": {
     "cell_type": "markdown",
     "checksum": "fa263f056d46784b851de576309974e9",
     "grade": false,
     "grade_id": "cell-2d57516c54518631",
     "locked": true,
     "schema_version": 3,
     "solution": false,
     "task": false
    }
   },
   "source": [
    "Considering the dataframe `df` created in the previous cell:\n",
    "- Write the code to extract the column 'C' and assign this subarray to a variable `df2` **of type DataFrame**."
   ]
  },
  {
   "cell_type": "code",
   "execution_count": null,
   "metadata": {
    "deletable": false,
    "nbgrader": {
     "cell_type": "code",
     "checksum": "e290028c74dbf90d81a234530658dca3",
     "grade": false,
     "grade_id": "cell-439df74f7e4ad4f6",
     "locked": false,
     "schema_version": 3,
     "solution": true,
     "task": false
    }
   },
   "outputs": [],
   "source": [
    "# YOUR CODE HERE\n",
    "raise NotImplementedError()"
   ]
  },
  {
   "cell_type": "code",
   "execution_count": null,
   "metadata": {
    "deletable": false,
    "editable": false,
    "nbgrader": {
     "cell_type": "code",
     "checksum": "d0a762fd9e64f19984b94b33d65bb817",
     "grade": true,
     "grade_id": "cell-dd2e546b29de2a17",
     "locked": true,
     "points": 1,
     "schema_version": 3,
     "solution": false,
     "task": false
    }
   },
   "outputs": [],
   "source": [
    "assert type(df2) == pd.DataFrame"
   ]
  },
  {
   "cell_type": "markdown",
   "metadata": {
    "deletable": false,
    "editable": false,
    "nbgrader": {
     "cell_type": "markdown",
     "checksum": "8d9bea04d7e33a6077ec03bb0165923c",
     "grade": false,
     "grade_id": "cell-77b1ee72bbe32443",
     "locked": true,
     "schema_version": 3,
     "solution": false,
     "task": false
    }
   },
   "source": [
    "- Write the code to extract the column 'A' and 'F' and assign this sub-`DataFrame` to a variable `df3`."
   ]
  },
  {
   "cell_type": "code",
   "execution_count": null,
   "metadata": {
    "deletable": false,
    "nbgrader": {
     "cell_type": "code",
     "checksum": "23cb61ae30807fd8f98fedf6ab2565ce",
     "grade": false,
     "grade_id": "cell-3607eab496454b0a",
     "locked": false,
     "schema_version": 3,
     "solution": true,
     "task": false
    }
   },
   "outputs": [],
   "source": [
    "# YOUR CODE HERE\n",
    "raise NotImplementedError()"
   ]
  },
  {
   "cell_type": "code",
   "execution_count": null,
   "metadata": {
    "deletable": false,
    "editable": false,
    "nbgrader": {
     "cell_type": "code",
     "checksum": "bd93f1e47903dab4eb08649af06e5f4a",
     "grade": true,
     "grade_id": "cell-78de20a754644993",
     "locked": true,
     "points": 1,
     "schema_version": 3,
     "solution": false,
     "task": false
    }
   },
   "outputs": [],
   "source": [
    "assert type(df3) == pd.DataFrame"
   ]
  },
  {
   "cell_type": "markdown",
   "metadata": {
    "deletable": false,
    "editable": false,
    "nbgrader": {
     "cell_type": "markdown",
     "checksum": "ebdee01ee8225c49c6193dd47825b25a",
     "grade": false,
     "grade_id": "cell-dc6ed9b1a9f17510",
     "locked": true,
     "schema_version": 3,
     "solution": false,
     "task": false
    }
   },
   "source": [
    "- Write the code to extract lines where the value in column 'D' is greater than 100 and assign this sub-`DataFrame` to a variable `df4`."
   ]
  },
  {
   "cell_type": "code",
   "execution_count": null,
   "metadata": {
    "deletable": false,
    "nbgrader": {
     "cell_type": "code",
     "checksum": "110a16e89095a2eebbcdf6d68a2fd30c",
     "grade": false,
     "grade_id": "cell-7213224e6e999a5e",
     "locked": false,
     "schema_version": 3,
     "solution": true,
     "task": false
    }
   },
   "outputs": [],
   "source": [
    "# YOUR CODE HERE\n",
    "raise NotImplementedError()"
   ]
  },
  {
   "cell_type": "code",
   "execution_count": null,
   "metadata": {
    "deletable": false,
    "editable": false,
    "nbgrader": {
     "cell_type": "code",
     "checksum": "649b8879f1010a4ce2a3688c55e4f4c7",
     "grade": true,
     "grade_id": "cell-81b38dbd7701e36a",
     "locked": true,
     "points": 1,
     "schema_version": 3,
     "solution": false,
     "task": false
    }
   },
   "outputs": [],
   "source": [
    "assert type(df4) == pd.DataFrame"
   ]
  },
  {
   "cell_type": "markdown",
   "metadata": {
    "deletable": false,
    "editable": false,
    "nbgrader": {
     "cell_type": "markdown",
     "checksum": "77903b33d874c140afa1dd0ecd776cb5",
     "grade": false,
     "grade_id": "cell-8f8836a1f2e5169b",
     "locked": true,
     "schema_version": 3,
     "solution": false,
     "task": false
    }
   },
   "source": [
    "- Write the code to extract lines where the value in column 'D' is greater than 100 or less than 40 and assign this sub-`DataFrame` to a variable `df5`."
   ]
  },
  {
   "cell_type": "code",
   "execution_count": null,
   "metadata": {
    "deletable": false,
    "nbgrader": {
     "cell_type": "code",
     "checksum": "379aac79fe491e2c041df9f7e51957c8",
     "grade": false,
     "grade_id": "cell-56475e3940244b7e",
     "locked": false,
     "schema_version": 3,
     "solution": true,
     "task": false
    }
   },
   "outputs": [],
   "source": [
    "# YOUR CODE HERE\n",
    "raise NotImplementedError()"
   ]
  },
  {
   "cell_type": "code",
   "execution_count": null,
   "metadata": {
    "deletable": false,
    "editable": false,
    "nbgrader": {
     "cell_type": "code",
     "checksum": "9e6ee2439a4952df02fa3c56648a44ca",
     "grade": true,
     "grade_id": "cell-3137844c56627d82",
     "locked": true,
     "points": 1,
     "schema_version": 3,
     "solution": false,
     "task": false
    }
   },
   "outputs": [],
   "source": [
    "assert type(df5) == pd.DataFrame"
   ]
  },
  {
   "cell_type": "markdown",
   "metadata": {
    "deletable": false,
    "editable": false,
    "nbgrader": {
     "cell_type": "markdown",
     "checksum": "73570f06248e490d4ca0e8441c71f268",
     "grade": false,
     "grade_id": "cell-297e4586156ad4e2",
     "locked": true,
     "schema_version": 3,
     "solution": false,
     "task": false
    }
   },
   "source": [
    "- Write the code to extract lines where the value in column 'D' is less than 100 and greater than 40 and assign this sub-`DataFrame` to a variable `df6`."
   ]
  },
  {
   "cell_type": "code",
   "execution_count": null,
   "metadata": {
    "deletable": false,
    "nbgrader": {
     "cell_type": "code",
     "checksum": "38f59c83981b25997541f833cbd64b40",
     "grade": false,
     "grade_id": "cell-a6afe8f7c217ee0b",
     "locked": false,
     "schema_version": 3,
     "solution": true,
     "task": false
    }
   },
   "outputs": [],
   "source": [
    "# YOUR CODE HERE\n",
    "raise NotImplementedError()"
   ]
  },
  {
   "cell_type": "code",
   "execution_count": null,
   "metadata": {
    "deletable": false,
    "editable": false,
    "nbgrader": {
     "cell_type": "code",
     "checksum": "9afdfd3882abb85f338493088f2365c7",
     "grade": true,
     "grade_id": "cell-cb5b5ea5c60ff474",
     "locked": true,
     "points": 1,
     "schema_version": 3,
     "solution": false,
     "task": false
    }
   },
   "outputs": [],
   "source": [
    "assert type(df6) == pd.DataFrame"
   ]
  },
  {
   "cell_type": "markdown",
   "metadata": {
    "deletable": false,
    "editable": false,
    "nbgrader": {
     "cell_type": "markdown",
     "checksum": "d3aaa0b0ed0e5887ec3c0c301c974139",
     "grade": false,
     "grade_id": "cell-831040fdb0d7e152",
     "locked": true,
     "schema_version": 3,
     "solution": false,
     "task": false
    }
   },
   "source": [
    "- Write the code to extract the values of columns 'D' and 'E' of lines where column 'B' is greater than 100 or less than 40 and assign this sub-`DataFrame` to a variable `df7`."
   ]
  },
  {
   "cell_type": "code",
   "execution_count": null,
   "metadata": {
    "deletable": false,
    "nbgrader": {
     "cell_type": "code",
     "checksum": "45d9ee3c640c4ea24c6d44f303b6df5f",
     "grade": false,
     "grade_id": "cell-0238b0c446614524",
     "locked": false,
     "schema_version": 3,
     "solution": true,
     "task": false
    }
   },
   "outputs": [],
   "source": [
    "# YOUR CODE HERE\n",
    "raise NotImplementedError()"
   ]
  },
  {
   "cell_type": "code",
   "execution_count": null,
   "metadata": {
    "deletable": false,
    "editable": false,
    "nbgrader": {
     "cell_type": "code",
     "checksum": "f3c45394edd007ea90bf9ab4f6b2ab07",
     "grade": true,
     "grade_id": "cell-d33dde24d7b3c076",
     "locked": true,
     "points": 1,
     "schema_version": 3,
     "solution": false,
     "task": false
    }
   },
   "outputs": [],
   "source": [
    "assert type(df7) == pd.DataFrame"
   ]
  },
  {
   "cell_type": "markdown",
   "metadata": {
    "deletable": false,
    "editable": false,
    "nbgrader": {
     "cell_type": "markdown",
     "checksum": "4f22d5ae85f72b7042c78c7f0374c3d8",
     "grade": false,
     "grade_id": "cell-ca725b813511ff00",
     "locked": true,
     "schema_version": 3,
     "solution": false,
     "task": false
    },
    "toc-hr-collapsed": false
   },
   "source": [
    "# Exploratory analysis of the Titanic dataset"
   ]
  },
  {
   "cell_type": "markdown",
   "metadata": {
    "deletable": false,
    "editable": false,
    "nbgrader": {
     "cell_type": "markdown",
     "checksum": "31f5985cf934895560f73ec0ebeb7159",
     "grade": false,
     "grade_id": "cell-04597c64fa438002",
     "locked": true,
     "schema_version": 3,
     "solution": false,
     "task": false
    }
   },
   "source": [
    "## Problem description"
   ]
  },
  {
   "cell_type": "markdown",
   "metadata": {
    "deletable": false,
    "editable": false,
    "nbgrader": {
     "cell_type": "markdown",
     "checksum": "4558a65b1c3310c29fe9ba444b4929a5",
     "grade": false,
     "grade_id": "cell-ad5ccda853f25531",
     "locked": true,
     "schema_version": 3,
     "solution": false,
     "task": false
    }
   },
   "source": [
    "The sinking of the RMS Titanic is one of the most infamous shipwrecks in history.  On April 15, 1912, during her maiden voyage, the Titanic sank after colliding with an iceberg, killing 1502 out of 2224 passengers and crew. This sensational tragedy shocked the international community and led to better safety regulations for ships.\n",
    "\n",
    "One of the reasons that the shipwreck led to such loss of life was that there were not enough lifeboats for the passengers and crew. Although there was some element of luck involved in surviving the sinking, some groups of people were more likely to survive than others, such as women, children, and the upper-class.\n",
    "\n",
    "In this lab session, you will complete the analysis of what sorts of people were likely to survive and you will apply machine learning methods to predict which passengers survived the tragedy.\n",
    "\n",
    "([Description from Kaggle](https://www.kaggle.com/c/titanic))"
   ]
  },
  {
   "cell_type": "markdown",
   "metadata": {
    "deletable": false,
    "editable": false,
    "nbgrader": {
     "cell_type": "markdown",
     "checksum": "5d46f750e58d71c7845f4be1916ce5ca",
     "grade": false,
     "grade_id": "cell-985da3b4f67c6cd4",
     "locked": true,
     "schema_version": 3,
     "solution": false,
     "task": false
    }
   },
   "source": [
    "## Load data"
   ]
  },
  {
   "cell_type": "markdown",
   "metadata": {
    "deletable": false,
    "editable": false,
    "nbgrader": {
     "cell_type": "markdown",
     "checksum": "68dd9dff645fb73d7798ecd620f8db93",
     "grade": false,
     "grade_id": "cell-c75fe0a30165a1ab",
     "locked": true,
     "schema_version": 3,
     "solution": false,
     "task": false
    }
   },
   "source": [
    "We start by acquiring the dataset into the `df` Pandas DataFrames."
   ]
  },
  {
   "cell_type": "code",
   "execution_count": null,
   "metadata": {
    "deletable": false,
    "editable": false,
    "nbgrader": {
     "cell_type": "code",
     "checksum": "3a9c92155fa19ea509b81261070c7f47",
     "grade": false,
     "grade_id": "cell-7eb08b4dcedd7b04",
     "locked": true,
     "schema_version": 3,
     "solution": false,
     "task": false
    }
   },
   "outputs": [],
   "source": [
    "titanic = pd.read_csv(\"https://raw.githubusercontent.com/ogrisel/parallel_ml_tutorial/master/notebooks/titanic_train.csv\")\n",
    "titanic"
   ]
  },
  {
   "cell_type": "markdown",
   "metadata": {
    "deletable": false,
    "editable": false,
    "nbgrader": {
     "cell_type": "markdown",
     "checksum": "ee238fb343f16adf05da5443eb4f2b0f",
     "grade": false,
     "grade_id": "cell-09f985ddad60db40",
     "locked": true,
     "schema_version": 3,
     "solution": false,
     "task": false
    }
   },
   "source": [
    "## Variables description\n",
    "\n",
    "Here are the *features* available in the dataset:"
   ]
  },
  {
   "cell_type": "code",
   "execution_count": null,
   "metadata": {
    "deletable": false,
    "editable": false,
    "nbgrader": {
     "cell_type": "code",
     "checksum": "995a4a9e198d14fbf0b4e565c34eb121",
     "grade": false,
     "grade_id": "cell-c2b5cdcc3b813f53",
     "locked": true,
     "schema_version": 3,
     "solution": false,
     "task": false
    }
   },
   "outputs": [],
   "source": [
    "for column in titanic.columns:\n",
    "    print(column)"
   ]
  },
  {
   "cell_type": "markdown",
   "metadata": {
    "deletable": false,
    "editable": false,
    "nbgrader": {
     "cell_type": "markdown",
     "checksum": "893db147656eb085fb0a319d4995f2cd",
     "grade": false,
     "grade_id": "cell-acd2dcf717089f07",
     "locked": true,
     "schema_version": 3,
     "solution": false,
     "task": false
    }
   },
   "source": [
    "- *Survived*: survived (1) or died (0)\n",
    "- *Pclass*: passenger's class\n",
    "- *Name*: passenger's name\n",
    "- *Sex*: passenger's sex\n",
    "- *Age*: passenger's age\n",
    "- *SibSp*: number of siblings/spouses aboard\n",
    "- *Parch*: number of parents/children aboard\n",
    "- *Ticket*: ticket number\n",
    "- *Fare*: fare\n",
    "- *Cabin*: cabin\n",
    "- *Embarked*: port of embarkation\n",
    "  - C = Cherbourg\n",
    "  - Q = Queenstown\n",
    "  - S = Southampton\n",
    "\n",
    "\n",
    "([Description from Kaggle](https://www.kaggle.com/c/titanic/data))"
   ]
  },
  {
   "cell_type": "markdown",
   "metadata": {
    "deletable": false,
    "editable": false,
    "nbgrader": {
     "cell_type": "markdown",
     "checksum": "5a14c6804378aac54b7ab28b23cc54a0",
     "grade": false,
     "grade_id": "cell-6594722cdac84476",
     "locked": true,
     "schema_version": 3,
     "solution": false,
     "task": false
    }
   },
   "source": [
    "## Exercise 2"
   ]
  },
  {
   "cell_type": "markdown",
   "metadata": {
    "deletable": false,
    "editable": false,
    "nbgrader": {
     "cell_type": "markdown",
     "checksum": "0f5066891a337304fff41971ec375aff",
     "grade": false,
     "grade_id": "cell-b0e6c38d84d9ae61",
     "locked": true,
     "schema_version": 3,
     "solution": false,
     "task": false
    }
   },
   "source": [
    "- List *categorical* features in the Titanic dataset and store it in `titanic_categorical` (of type `list`).\n",
    "\n",
    "**Hint**: the types of all features can be retrieved with `titanic.dtypes`. Which one(s) are **not** *numerical*?\n",
    "\n",
    "**Warning**: a systematic approach is expected, DO NOT simply copy/paste column names from above."
   ]
  },
  {
   "cell_type": "code",
   "execution_count": null,
   "metadata": {
    "deletable": false,
    "nbgrader": {
     "cell_type": "code",
     "checksum": "a876638aef50d5adeb2fdb1cf66257fa",
     "grade": false,
     "grade_id": "cell-bb908cf4f12ae20e",
     "locked": false,
     "schema_version": 3,
     "solution": true,
     "task": false
    }
   },
   "outputs": [],
   "source": [
    "# YOUR CODE HERE\n",
    "raise NotImplementedError()"
   ]
  },
  {
   "cell_type": "code",
   "execution_count": null,
   "metadata": {
    "deletable": false,
    "editable": false,
    "nbgrader": {
     "cell_type": "code",
     "checksum": "8f396da44f453313859bc974ddf365c6",
     "grade": true,
     "grade_id": "cell-b2cfd1859c56dece",
     "locked": true,
     "points": 1,
     "schema_version": 3,
     "solution": false,
     "task": false
    }
   },
   "outputs": [],
   "source": []
  },
  {
   "cell_type": "markdown",
   "metadata": {
    "deletable": false,
    "editable": false,
    "nbgrader": {
     "cell_type": "markdown",
     "checksum": "f0a37f4661b066d30f2efebbb2885ca8",
     "grade": false,
     "grade_id": "cell-92ac7b689406f28c",
     "locked": true,
     "schema_version": 3,
     "solution": false,
     "task": false
    }
   },
   "source": [
    "- List *numerical* features and store it in `titanic_numerical`. **Hint**: if they're numerical, they're not *categorical*."
   ]
  },
  {
   "cell_type": "code",
   "execution_count": null,
   "metadata": {
    "deletable": false,
    "nbgrader": {
     "cell_type": "code",
     "checksum": "d053e6e32718917a3d3c5cc80828a4ca",
     "grade": false,
     "grade_id": "cell-31eec71b64072565",
     "locked": false,
     "schema_version": 3,
     "solution": true,
     "task": false
    }
   },
   "outputs": [],
   "source": [
    "# YOUR CODE HERE\n",
    "raise NotImplementedError()"
   ]
  },
  {
   "cell_type": "code",
   "execution_count": null,
   "metadata": {
    "deletable": false,
    "editable": false,
    "nbgrader": {
     "cell_type": "code",
     "checksum": "1555010d6197f48266a49c88c0c36d65",
     "grade": true,
     "grade_id": "cell-c3f19e3115114386",
     "locked": true,
     "points": 0,
     "schema_version": 3,
     "solution": false,
     "task": false
    }
   },
   "outputs": [],
   "source": []
  },
  {
   "cell_type": "markdown",
   "metadata": {
    "deletable": false,
    "editable": false,
    "nbgrader": {
     "cell_type": "markdown",
     "checksum": "357b4459787bc7809c13aefc93f7dfb3",
     "grade": false,
     "grade_id": "cell-bcd9e79fe369b415",
     "locked": true,
     "schema_version": 3,
     "solution": false,
     "task": false
    }
   },
   "source": [
    "- Which features contain blank, null or empty values? Store a list of them in `titanic_features_blank`.\n",
    "\n",
    "**Warning**: a list of feature names is expected."
   ]
  },
  {
   "cell_type": "code",
   "execution_count": null,
   "metadata": {
    "deletable": false,
    "nbgrader": {
     "cell_type": "code",
     "checksum": "4f1a2a952271b824eff35b132faffc15",
     "grade": false,
     "grade_id": "cell-760b953ec1c8855b",
     "locked": false,
     "schema_version": 3,
     "solution": true,
     "task": false
    }
   },
   "outputs": [],
   "source": [
    "# YOUR CODE HERE\n",
    "raise NotImplementedError()"
   ]
  },
  {
   "cell_type": "code",
   "execution_count": null,
   "metadata": {
    "deletable": false,
    "editable": false,
    "nbgrader": {
     "cell_type": "code",
     "checksum": "03c5673d634ee3aeb96c8be82a084761",
     "grade": true,
     "grade_id": "cell-6d38b35ec18f84c1",
     "locked": true,
     "points": 1,
     "schema_version": 3,
     "solution": false,
     "task": false
    }
   },
   "outputs": [],
   "source": []
  },
  {
   "cell_type": "markdown",
   "metadata": {
    "deletable": false,
    "editable": false,
    "nbgrader": {
     "cell_type": "markdown",
     "checksum": "1eafaa9cd9b7c6f8dda5d526455165b6",
     "grade": false,
     "grade_id": "cell-b3f28acfda4d00ea",
     "locked": true,
     "schema_version": 3,
     "solution": false,
     "task": false
    }
   },
   "source": [
    "- We want to complete the analysis of what sorts of people were likely to survive, i.e. to predict for a new passenger whether he/she will (or would have...) survive(d) or not. What kind of machine learning problem is it?\n",
    "- A supervised / unsupervised problem?\n",
    "- A classification / regression / clustering / reinforcement learning problem?\n",
    "- **Why?**"
   ]
  },
  {
   "cell_type": "markdown",
   "metadata": {
    "deletable": false,
    "nbgrader": {
     "cell_type": "markdown",
     "checksum": "d70fca5e5ea21d7e3c2327d00019df60",
     "grade": true,
     "grade_id": "cell-1c1a246a13908fd9",
     "locked": false,
     "points": 0,
     "schema_version": 3,
     "solution": true,
     "task": false
    }
   },
   "source": [
    "YOUR ANSWER HERE"
   ]
  },
  {
   "cell_type": "markdown",
   "metadata": {
    "deletable": false,
    "editable": false,
    "nbgrader": {
     "cell_type": "markdown",
     "checksum": "ff60bded596127fda1e9a865f3d3e943",
     "grade": false,
     "grade_id": "cell-eb530d284f3b39cc",
     "locked": true,
     "schema_version": 3,
     "solution": false,
     "task": false
    }
   },
   "source": [
    "## Display a quick summary of the dataset"
   ]
  },
  {
   "cell_type": "code",
   "execution_count": null,
   "metadata": {
    "deletable": false,
    "editable": false,
    "nbgrader": {
     "cell_type": "code",
     "checksum": "764827d08fecbd9d4cc7b6de30d9b913",
     "grade": false,
     "grade_id": "cell-037155de563d9c41",
     "locked": true,
     "schema_version": 3,
     "solution": false,
     "task": false
    }
   },
   "outputs": [],
   "source": [
    "titanic.describe()"
   ]
  },
  {
   "cell_type": "markdown",
   "metadata": {
    "deletable": false,
    "editable": false,
    "nbgrader": {
     "cell_type": "markdown",
     "checksum": "11aa70020f88f6d9182628d16536f954",
     "grade": false,
     "grade_id": "cell-0ffbe2b45fc667a9",
     "locked": true,
     "schema_version": 3,
     "solution": false,
     "task": false
    }
   },
   "source": [
    "## Exercise 3"
   ]
  },
  {
   "cell_type": "markdown",
   "metadata": {
    "deletable": false,
    "editable": false,
    "nbgrader": {
     "cell_type": "markdown",
     "checksum": "b95a6253a97bc9e117632c34398b1c10",
     "grade": false,
     "grade_id": "cell-24d45c1c41a83910",
     "locked": true,
     "schema_version": 3,
     "solution": false,
     "task": false
    }
   },
   "source": [
    "- What is the age of the oldest passenger (or crew)? Store it in `age_oldest_on_titanic`.\n",
    "\n",
    "**Warning**: use a systematic approach. DO NOT simply copy/paste from the table above. A `float` is expected."
   ]
  },
  {
   "cell_type": "code",
   "execution_count": null,
   "metadata": {
    "deletable": false,
    "nbgrader": {
     "cell_type": "code",
     "checksum": "5ba37f5550ae031f2cfe5b2d5284f8e7",
     "grade": false,
     "grade_id": "cell-8426f2d06daab9a9",
     "locked": false,
     "schema_version": 3,
     "solution": true,
     "task": false
    }
   },
   "outputs": [],
   "source": [
    "# YOUR CODE HERE\n",
    "raise NotImplementedError()"
   ]
  },
  {
   "cell_type": "code",
   "execution_count": null,
   "metadata": {
    "deletable": false,
    "editable": false,
    "nbgrader": {
     "cell_type": "code",
     "checksum": "f638413a0148b970f25865344bd38018",
     "grade": true,
     "grade_id": "cell-b84657a5d8e82d12",
     "locked": true,
     "points": 1,
     "schema_version": 3,
     "solution": false,
     "task": false
    }
   },
   "outputs": [],
   "source": []
  },
  {
   "cell_type": "markdown",
   "metadata": {
    "deletable": false,
    "editable": false,
    "nbgrader": {
     "cell_type": "markdown",
     "checksum": "77b398bc88f7023e7a8b710a5febd11a",
     "grade": false,
     "grade_id": "cell-31a0aab5915dab7b",
     "locked": true,
     "schema_version": 3,
     "solution": false,
     "task": false
    }
   },
   "source": [
    "- What is the average fare ? Store it in `average_fare_on_titanic`.\n",
    "\n",
    "**Warning**: use a systematic approach. DO NOT simply copy/paste from the table above. A `float` is expected."
   ]
  },
  {
   "cell_type": "code",
   "execution_count": null,
   "metadata": {
    "deletable": false,
    "nbgrader": {
     "cell_type": "code",
     "checksum": "a526a9347625b43c03d05a922053687e",
     "grade": false,
     "grade_id": "cell-averageFARE1",
     "locked": false,
     "schema_version": 3,
     "solution": true,
     "task": false
    }
   },
   "outputs": [],
   "source": [
    "# YOUR CODE HERE\n",
    "raise NotImplementedError()"
   ]
  },
  {
   "cell_type": "code",
   "execution_count": null,
   "metadata": {
    "deletable": false,
    "editable": false,
    "nbgrader": {
     "cell_type": "code",
     "checksum": "7c7c9cc8297b565b081b50aff0f512da",
     "grade": true,
     "grade_id": "cell-3d92aacb2c30d921",
     "locked": true,
     "points": 1,
     "schema_version": 3,
     "solution": false,
     "task": false
    }
   },
   "outputs": [],
   "source": []
  },
  {
   "cell_type": "markdown",
   "metadata": {
    "deletable": false,
    "editable": false,
    "nbgrader": {
     "cell_type": "markdown",
     "checksum": "5764cec5f50fae67113c99983c4ac7e3",
     "grade": false,
     "grade_id": "cell-c56a18b441033952",
     "locked": true,
     "schema_version": 3,
     "solution": false,
     "task": false
    }
   },
   "source": [
    "- What are the fare quartiles (the 25%, 50%, 75% quantiles)?\n",
    "\n",
    "**Warning**: use a systematic approach. DO NOT simply copy/paste from the table above. A `Series` is expected."
   ]
  },
  {
   "cell_type": "code",
   "execution_count": null,
   "metadata": {
    "deletable": false,
    "nbgrader": {
     "cell_type": "code",
     "checksum": "79e7f1361f6722da2430ea0a0699ce6c",
     "grade": false,
     "grade_id": "cell-f8af80abc411bfc5",
     "locked": false,
     "schema_version": 3,
     "solution": true,
     "task": false
    }
   },
   "outputs": [],
   "source": [
    "# YOUR CODE HERE\n",
    "raise NotImplementedError()"
   ]
  },
  {
   "cell_type": "markdown",
   "metadata": {
    "deletable": false,
    "editable": false,
    "nbgrader": {
     "cell_type": "markdown",
     "checksum": "e3fa66db5ac68c9b289669a038b19cd4",
     "grade": false,
     "grade_id": "cell-9c6d8bdc752ce7a2",
     "locked": true,
     "schema_version": 3,
     "solution": false,
     "task": false
    }
   },
   "source": [
    "## Explore correlations between the numerical features and survival of passengers"
   ]
  },
  {
   "cell_type": "markdown",
   "metadata": {
    "deletable": false,
    "editable": false,
    "nbgrader": {
     "cell_type": "markdown",
     "checksum": "cb60d563116649cde03d75ea2a5afd99",
     "grade": false,
     "grade_id": "cell-2f86fd04241804bd",
     "locked": true,
     "schema_version": 3,
     "solution": false,
     "task": false
    }
   },
   "source": [
    "Let us start by understanding correlations between numerical features and the label we want to predict (Survived)."
   ]
  },
  {
   "cell_type": "markdown",
   "metadata": {
    "_uuid": "7bdff445fd2b87bec6f49c5da3f2984d44f05a59",
    "deletable": false,
    "editable": false,
    "nbgrader": {
     "cell_type": "markdown",
     "checksum": "3a7d4373ab3ef4ce3b57a7fe0cddeda9",
     "grade": false,
     "grade_id": "cell-4bdfbe388093f5f6",
     "locked": true,
     "schema_version": 3,
     "solution": false,
     "task": false
    }
   },
   "source": [
    "### Correlation survival vs age"
   ]
  },
  {
   "cell_type": "code",
   "execution_count": null,
   "metadata": {
    "_uuid": "92dbc0685e40aea876968dad5161033f33ac6c35",
    "deletable": false,
    "editable": false,
    "nbgrader": {
     "cell_type": "code",
     "checksum": "cdc2a520f409d818a8290a66c055de4e",
     "grade": false,
     "grade_id": "cell-a960c1bb23797f1f",
     "locked": true,
     "schema_version": 3,
     "solution": false,
     "task": false
    }
   },
   "outputs": [],
   "source": [
    "bins = np.arange(0, 100, 5)  # this controls the width of the age categories\n",
    "print(\"Bins:\", bins)\n",
    "\n",
    "ax = titanic.loc[titanic.Survived == 0, \"Age\"].hist(  # we select dead people's rows and use hist(ogram)\n",
    "    bins=bins, color=\"red\", alpha=0.5, label=\"died\", figsize=(18, 8))  # let's plot them in red\n",
    "titanic.loc[titanic.Survived == 1, \"Age\"].hist(  # we select surviving people's rows and use hist(ogram)\n",
    "    bins=bins, color=\"blue\", ax=ax, alpha=0.5, label=\"survived\")  # let's plot them in blue\n",
    "ax.legend();  # let's add a legend\n",
    "plt.show()"
   ]
  },
  {
   "cell_type": "markdown",
   "metadata": {
    "deletable": false,
    "editable": false,
    "nbgrader": {
     "cell_type": "markdown",
     "checksum": "a83f042ea43cf77173e8c32e06594f88",
     "grade": false,
     "grade_id": "cell-72fe8d565630a8a3",
     "locked": true,
     "schema_version": 3,
     "solution": false,
     "task": false
    }
   },
   "source": [
    "Don't forget to check missing values as it could bias the plot above!"
   ]
  },
  {
   "cell_type": "code",
   "execution_count": null,
   "metadata": {
    "deletable": false,
    "editable": false,
    "nbgrader": {
     "cell_type": "code",
     "checksum": "b8eab2e0870e2a2d1627d37f8fb211b8",
     "grade": false,
     "grade_id": "cell-3ecb78db65ba0d1f",
     "locked": true,
     "schema_version": 3,
     "solution": false,
     "task": false
    }
   },
   "outputs": [],
   "source": [
    "titanic.loc[(titanic.Age.isnull()) & (titanic.Survived == 0)].shape[0]"
   ]
  },
  {
   "cell_type": "code",
   "execution_count": null,
   "metadata": {
    "deletable": false,
    "editable": false,
    "nbgrader": {
     "cell_type": "code",
     "checksum": "c84dd24f54d5c5aa02961b0b5ef5020a",
     "grade": false,
     "grade_id": "cell-70601df6f2453a57",
     "locked": true,
     "schema_version": 3,
     "solution": false,
     "task": false
    }
   },
   "outputs": [],
   "source": [
    "titanic.loc[(titanic.Age.isnull()) & (titanic.Survived == 1)].shape[0]"
   ]
  },
  {
   "cell_type": "markdown",
   "metadata": {
    "deletable": false,
    "editable": false,
    "nbgrader": {
     "cell_type": "markdown",
     "checksum": "5bb51c826f49beb9ca2b0e2a6255da1d",
     "grade": false,
     "grade_id": "cell-ad3110916019779a",
     "locked": true,
     "schema_version": 3,
     "solution": false,
     "task": false
    }
   },
   "source": [
    "## Exercise 4"
   ]
  },
  {
   "cell_type": "markdown",
   "metadata": {
    "deletable": false,
    "editable": false,
    "nbgrader": {
     "cell_type": "markdown",
     "checksum": "4a86ea16b99de95e32e554b1fce1304b",
     "grade": false,
     "grade_id": "cell-698a9e4715c1982d",
     "locked": true,
     "schema_version": 3,
     "solution": false,
     "task": false
    }
   },
   "source": [
    "What useful qualitative observation can you extract from the previous plot?"
   ]
  },
  {
   "cell_type": "markdown",
   "metadata": {
    "deletable": false,
    "nbgrader": {
     "cell_type": "markdown",
     "checksum": "b2e8699190bb5fe11514b5e7c1d64bb1",
     "grade": true,
     "grade_id": "cell-a41bfe53c8227bc9",
     "locked": false,
     "points": 0,
     "schema_version": 3,
     "solution": true,
     "task": false
    }
   },
   "source": [
    "YOUR ANSWER HERE"
   ]
  },
  {
   "cell_type": "markdown",
   "metadata": {
    "deletable": false,
    "editable": false,
    "nbgrader": {
     "cell_type": "markdown",
     "checksum": "d23543bfec973a7871401112524491a5",
     "grade": false,
     "grade_id": "cell-ca1f651296e04d0a",
     "locked": true,
     "schema_version": 3,
     "solution": false,
     "task": false
    }
   },
   "source": [
    "## Exercise 5"
   ]
  },
  {
   "cell_type": "markdown",
   "metadata": {
    "deletable": false,
    "editable": false,
    "nbgrader": {
     "cell_type": "markdown",
     "checksum": "ab4a59a2ffc0b860d9b788a598b570cc",
     "grade": false,
     "grade_id": "cell-5bf5ebdba33a21a8",
     "locked": true,
     "schema_version": 3,
     "solution": false,
     "task": false
    }
   },
   "source": [
    "Plot correlation between Fare and Survival. Use the code from the previous cell as a starting point."
   ]
  },
  {
   "cell_type": "code",
   "execution_count": null,
   "metadata": {
    "deletable": false,
    "nbgrader": {
     "cell_type": "code",
     "checksum": "7fe0156dab14944d737fe2a130193288",
     "grade": true,
     "grade_id": "cell-f1c81ab5ad32fc5b",
     "locked": false,
     "points": 0,
     "schema_version": 3,
     "solution": true,
     "task": false
    }
   },
   "outputs": [],
   "source": [
    "# YOUR CODE HERE\n",
    "raise NotImplementedError()"
   ]
  },
  {
   "cell_type": "markdown",
   "metadata": {
    "deletable": false,
    "editable": false,
    "nbgrader": {
     "cell_type": "markdown",
     "checksum": "bb22c87953fa67f418203b556070b1e3",
     "grade": false,
     "grade_id": "cell-ae555ef7ad95ef24",
     "locked": true,
     "schema_version": 3,
     "solution": false,
     "task": false
    }
   },
   "source": [
    "What useful observation can you extract from the previous plot?"
   ]
  },
  {
   "cell_type": "markdown",
   "metadata": {
    "deletable": false,
    "nbgrader": {
     "cell_type": "markdown",
     "checksum": "b23a68426ac08ae80049ad9c02e822de",
     "grade": true,
     "grade_id": "cell-93819835ee94b1c3",
     "locked": false,
     "points": 0,
     "schema_version": 3,
     "solution": true,
     "task": false
    }
   },
   "source": [
    "YOUR ANSWER HERE"
   ]
  },
  {
   "cell_type": "markdown",
   "metadata": {
    "deletable": false,
    "editable": false,
    "nbgrader": {
     "cell_type": "markdown",
     "checksum": "7ad3ee951ba5b23ae160c15274a2ad13",
     "grade": false,
     "grade_id": "cell-29001b6f03af14b3",
     "locked": true,
     "schema_version": 3,
     "solution": false,
     "task": false
    }
   },
   "source": [
    "## Explore correlations between the categorical features and survival of passengers"
   ]
  },
  {
   "cell_type": "markdown",
   "metadata": {
    "_uuid": "6c8672e390f9ac5a4cdd573342ca895464921a5c",
    "deletable": false,
    "editable": false,
    "nbgrader": {
     "cell_type": "markdown",
     "checksum": "5c8a5efd638dcd60be33310db5293936",
     "grade": false,
     "grade_id": "cell-014adbf1dfba353b",
     "locked": true,
     "schema_version": 3,
     "solution": false,
     "task": false
    }
   },
   "source": [
    "### Correlation survival vs class"
   ]
  },
  {
   "cell_type": "code",
   "execution_count": null,
   "metadata": {
    "deletable": false,
    "editable": false,
    "nbgrader": {
     "cell_type": "code",
     "checksum": "71902c70871f0ecbc5f08297ed739587",
     "grade": false,
     "grade_id": "cell-fe911c6a1117f4ff",
     "locked": true,
     "schema_version": 3,
     "solution": false,
     "task": false
    }
   },
   "outputs": [],
   "source": [
    "g = sns.catplot(y=\"Survived\", x=\"Pclass\", kind=\"bar\", data=titanic)\n",
    "g.set_ylabels(\"survival probability\");"
   ]
  },
  {
   "cell_type": "markdown",
   "metadata": {
    "deletable": false,
    "editable": false,
    "nbgrader": {
     "cell_type": "markdown",
     "checksum": "55fd1c7de6721927caaf6ae7272b5c3b",
     "grade": false,
     "grade_id": "cell-cbe8dbdc1994f417",
     "locked": true,
     "schema_version": 3,
     "solution": false,
     "task": false
    }
   },
   "source": [
    "Survival probability is simply the ratio of surviving passengers in each class."
   ]
  },
  {
   "cell_type": "markdown",
   "metadata": {
    "deletable": false,
    "editable": false,
    "nbgrader": {
     "cell_type": "markdown",
     "checksum": "af7ca49e835140a523f743e15c69a76b",
     "grade": false,
     "grade_id": "cell-68096587e68ce64a",
     "locked": true,
     "schema_version": 3,
     "solution": false,
     "task": false
    }
   },
   "source": [
    "## Exercise 6"
   ]
  },
  {
   "cell_type": "markdown",
   "metadata": {
    "deletable": false,
    "editable": false,
    "nbgrader": {
     "cell_type": "markdown",
     "checksum": "70333e69eb3c624abacc2c6a31c9bf74",
     "grade": false,
     "grade_id": "cell-bef02f17ed10a686",
     "locked": true,
     "schema_version": 3,
     "solution": false,
     "task": false
    }
   },
   "source": [
    "What useful observation can you extract from the previous plot?"
   ]
  },
  {
   "cell_type": "markdown",
   "metadata": {
    "deletable": false,
    "nbgrader": {
     "cell_type": "markdown",
     "checksum": "ac19f4f609ef4662289d9ce1ee5cde26",
     "grade": true,
     "grade_id": "cell-61418c02363f3250",
     "locked": false,
     "points": 0,
     "schema_version": 3,
     "solution": true,
     "task": false
    }
   },
   "source": [
    "YOUR ANSWER HERE"
   ]
  },
  {
   "cell_type": "markdown",
   "metadata": {
    "deletable": false,
    "editable": false,
    "nbgrader": {
     "cell_type": "markdown",
     "checksum": "6c26a5f4b35983681f0ba70d05964426",
     "grade": false,
     "grade_id": "cell-454ac963eb96a09e",
     "locked": true,
     "schema_version": 3,
     "solution": false,
     "task": false
    }
   },
   "source": [
    "Plot correlation between\n",
    "* Sex and Survival\n",
    "* SibSp and Survival\n",
    "* Parch and Survival\n",
    "* Embarked and Survival\n",
    "\n",
    "Use the code from the previous cell as a starting point."
   ]
  },
  {
   "cell_type": "code",
   "execution_count": null,
   "metadata": {
    "deletable": false,
    "nbgrader": {
     "cell_type": "code",
     "checksum": "8c29da87d103f6ddb11919a7c0930f35",
     "grade": true,
     "grade_id": "cell-57afbe699faf2a84",
     "locked": false,
     "points": 0,
     "schema_version": 3,
     "solution": true,
     "task": false
    }
   },
   "outputs": [],
   "source": [
    "# YOUR CODE HERE\n",
    "raise NotImplementedError()"
   ]
  },
  {
   "cell_type": "markdown",
   "metadata": {
    "deletable": false,
    "editable": false,
    "nbgrader": {
     "cell_type": "markdown",
     "checksum": "3aa8682d3fff55da8f2db687bc836191",
     "grade": false,
     "grade_id": "cell-c3c65dc044192744",
     "locked": true,
     "schema_version": 3,
     "solution": false,
     "task": false
    }
   },
   "source": [
    "What useful observation can you extract from these plots ?"
   ]
  },
  {
   "cell_type": "markdown",
   "metadata": {
    "deletable": false,
    "nbgrader": {
     "cell_type": "markdown",
     "checksum": "fba6088b8672c05245041b0751b941d5",
     "grade": true,
     "grade_id": "cell-dce697156e2e038b",
     "locked": false,
     "points": 0,
     "schema_version": 3,
     "solution": true,
     "task": false
    }
   },
   "source": [
    "YOUR ANSWER HERE"
   ]
  },
  {
   "cell_type": "markdown",
   "metadata": {
    "deletable": false,
    "editable": false,
    "nbgrader": {
     "cell_type": "markdown",
     "checksum": "8d34215bc45e05db9fcf1752ad07d840",
     "grade": false,
     "grade_id": "cell-8afef19dbc06bc1e",
     "locked": true,
     "schema_version": 3,
     "solution": false,
     "task": false
    }
   },
   "source": [
    "## Exercise 7"
   ]
  },
  {
   "cell_type": "markdown",
   "metadata": {
    "deletable": false,
    "editable": false,
    "nbgrader": {
     "cell_type": "markdown",
     "checksum": "57fe21f1d36007d299262da9d99b80ad",
     "grade": false,
     "grade_id": "cell-77808c49e719b983",
     "locked": true,
     "schema_version": 3,
     "solution": false,
     "task": false
    }
   },
   "source": [
    "The following code computes the survival rate of women in the first class, i.e. an estimate of $P(\\text{Survived} = 1 | \\text{Sex}=\\text{female}, \\text{Pclass}=1)$.\n",
    "\n",
    "Note how we're making good use of the (frustrating) first exercises."
   ]
  },
  {
   "cell_type": "code",
   "execution_count": null,
   "metadata": {
    "deletable": false,
    "editable": false,
    "nbgrader": {
     "cell_type": "code",
     "checksum": "410ed3e617a3641da57154863d9d611d",
     "grade": false,
     "grade_id": "cell-0b42ede2057860b8",
     "locked": true,
     "schema_version": 3,
     "solution": false,
     "task": false
    }
   },
   "outputs": [],
   "source": [
    "p_survived_1_given_female_1 = titanic.loc[(titanic.Sex == \"female\") & (titanic.Pclass == 1), \"Survived\"].mean()\n",
    "p_survived_1_given_female_1"
   ]
  },
  {
   "cell_type": "markdown",
   "metadata": {
    "deletable": false,
    "editable": false,
    "nbgrader": {
     "cell_type": "markdown",
     "checksum": "dea59f84e94dc38861cbe1ab22eec368",
     "grade": false,
     "grade_id": "cell-75f54b014450bcb7",
     "locked": true,
     "schema_version": 3,
     "solution": false,
     "task": false
    }
   },
   "source": [
    "Compute the survival rate corresponding to:\n",
    "\n",
    "- $P(\\text{Survived} = 1 | \\text{Sex}=\\text{female}, \\text{Pclass}=2)$ and store it in `p_survived_1_given_female_2`"
   ]
  },
  {
   "cell_type": "code",
   "execution_count": null,
   "metadata": {
    "deletable": false,
    "nbgrader": {
     "cell_type": "code",
     "checksum": "f26073bc0a3628d1df8412fd7c30191e",
     "grade": false,
     "grade_id": "cell-9927db2d2f26d325",
     "locked": false,
     "schema_version": 3,
     "solution": true,
     "task": false
    }
   },
   "outputs": [],
   "source": [
    "# YOUR CODE HERE\n",
    "raise NotImplementedError()\n",
    "p_survived_1_given_female_2"
   ]
  },
  {
   "cell_type": "code",
   "execution_count": null,
   "metadata": {
    "deletable": false,
    "editable": false,
    "nbgrader": {
     "cell_type": "code",
     "checksum": "06938a28f78260fa325810952b2ff2d7",
     "grade": true,
     "grade_id": "cell-264b06d3d0b6cbb4",
     "locked": true,
     "points": 1,
     "schema_version": 3,
     "solution": false,
     "task": false
    }
   },
   "outputs": [],
   "source": []
  },
  {
   "cell_type": "markdown",
   "metadata": {
    "deletable": false,
    "editable": false,
    "nbgrader": {
     "cell_type": "markdown",
     "checksum": "a82bd4ea3108e385071489482d62ef69",
     "grade": false,
     "grade_id": "cell-a6ce46d21ed763e6",
     "locked": true,
     "schema_version": 3,
     "solution": false,
     "task": false
    }
   },
   "source": [
    "- $P(\\text{Survived} = 1 | \\text{Sex}=\\text{female}, \\text{Pclass}=3)$ and store it in `p_survived_1_given_female_3`"
   ]
  },
  {
   "cell_type": "code",
   "execution_count": null,
   "metadata": {
    "deletable": false,
    "nbgrader": {
     "cell_type": "code",
     "checksum": "fbe4e79624b2f22c4048a0dd8889e61b",
     "grade": false,
     "grade_id": "cell-4883eca7937bebe7",
     "locked": false,
     "schema_version": 3,
     "solution": true,
     "task": false
    }
   },
   "outputs": [],
   "source": [
    "# YOUR CODE HERE\n",
    "raise NotImplementedError()\n",
    "p_survived_1_given_female_3"
   ]
  },
  {
   "cell_type": "code",
   "execution_count": null,
   "metadata": {
    "deletable": false,
    "editable": false,
    "nbgrader": {
     "cell_type": "code",
     "checksum": "dc5038cfc1cbc8dac45fd88c4674a11e",
     "grade": true,
     "grade_id": "cell-5b2947a657be54e4",
     "locked": true,
     "points": 1,
     "schema_version": 3,
     "solution": false,
     "task": false
    }
   },
   "outputs": [],
   "source": []
  },
  {
   "cell_type": "markdown",
   "metadata": {
    "deletable": false,
    "editable": false,
    "nbgrader": {
     "cell_type": "markdown",
     "checksum": "d5171f213a853c6957dfaf4ebee7bbe2",
     "grade": false,
     "grade_id": "cell-eb789a9425a34cfa",
     "locked": true,
     "schema_version": 3,
     "solution": false,
     "task": false
    }
   },
   "source": [
    "- $P(\\text{Survived}=1 | \\text{Sex}=\\text{male}, \\text{Pclass}=1)$ and store it in `p_survived_1_given_male_1`"
   ]
  },
  {
   "cell_type": "code",
   "execution_count": null,
   "metadata": {
    "deletable": false,
    "nbgrader": {
     "cell_type": "code",
     "checksum": "d7bb31a9aa7608c957431f2b0eb4d147",
     "grade": false,
     "grade_id": "cell-f524d6a84a768d49",
     "locked": false,
     "schema_version": 3,
     "solution": true,
     "task": false
    }
   },
   "outputs": [],
   "source": [
    "# YOUR CODE HERE\n",
    "raise NotImplementedError()\n",
    "p_survived_1_given_male_1"
   ]
  },
  {
   "cell_type": "code",
   "execution_count": null,
   "metadata": {
    "deletable": false,
    "editable": false,
    "nbgrader": {
     "cell_type": "code",
     "checksum": "b13275fcedcb233c6988ca2964792b9b",
     "grade": true,
     "grade_id": "cell-374cc7302701a232",
     "locked": true,
     "points": 1,
     "schema_version": 3,
     "solution": false,
     "task": false
    }
   },
   "outputs": [],
   "source": []
  },
  {
   "cell_type": "markdown",
   "metadata": {},
   "source": [
    "- $P(\\text{Survived} = 1 | \\text{Sex}=\\text{male}, \\text{Pclass}=2)$ and store it in `p_survived_1_given_male_2`"
   ]
  },
  {
   "cell_type": "code",
   "execution_count": null,
   "metadata": {
    "deletable": false,
    "nbgrader": {
     "cell_type": "code",
     "checksum": "63c8c4aa509abbe123067b14b9d410ac",
     "grade": false,
     "grade_id": "cell-eff206b0fa159947",
     "locked": false,
     "schema_version": 3,
     "solution": true,
     "task": false
    }
   },
   "outputs": [],
   "source": [
    "# YOUR CODE HERE\n",
    "raise NotImplementedError()\n",
    "p_survived_1_given_male_2"
   ]
  },
  {
   "cell_type": "code",
   "execution_count": null,
   "metadata": {
    "deletable": false,
    "editable": false,
    "nbgrader": {
     "cell_type": "code",
     "checksum": "0fdd2f27da2a3059aee1e6dbd63ac7da",
     "grade": true,
     "grade_id": "cell-d26e9e2da5e80004",
     "locked": true,
     "points": 1,
     "schema_version": 3,
     "solution": false,
     "task": false
    }
   },
   "outputs": [],
   "source": []
  },
  {
   "cell_type": "markdown",
   "metadata": {
    "deletable": false,
    "editable": false,
    "nbgrader": {
     "cell_type": "markdown",
     "checksum": "1e5016defb575081b0ee90763e952133",
     "grade": false,
     "grade_id": "cell-bd743d1c6158196d",
     "locked": true,
     "schema_version": 3,
     "solution": false,
     "task": false
    }
   },
   "source": [
    "- $P(\\text{Survived}=1 | \\text{Sex}=\\text{male}, \\text{Pclass}=3)$ and store it in `p_survived_1_given_male_3`"
   ]
  },
  {
   "cell_type": "code",
   "execution_count": null,
   "metadata": {
    "deletable": false,
    "nbgrader": {
     "cell_type": "code",
     "checksum": "58aab39795f4e01642dcff84da502bd6",
     "grade": false,
     "grade_id": "cell-de3af50bfb0c175b",
     "locked": false,
     "schema_version": 3,
     "solution": true,
     "task": false
    }
   },
   "outputs": [],
   "source": [
    "# YOUR CODE HERE\n",
    "raise NotImplementedError()\n",
    "p_survived_1_given_male_3"
   ]
  },
  {
   "cell_type": "code",
   "execution_count": null,
   "metadata": {
    "deletable": false,
    "editable": false,
    "nbgrader": {
     "cell_type": "code",
     "checksum": "26a31fa4391490320ad3a92c0f0cb032",
     "grade": true,
     "grade_id": "cell-4e260dc4624abb54",
     "locked": true,
     "points": 1,
     "schema_version": 3,
     "solution": false,
     "task": false
    }
   },
   "outputs": [],
   "source": []
  },
  {
   "cell_type": "markdown",
   "metadata": {
    "deletable": false,
    "editable": false,
    "nbgrader": {
     "cell_type": "markdown",
     "checksum": "137357288f008a4390430898693cb3f9",
     "grade": false,
     "grade_id": "cell-f609734bbd8a36ab",
     "locked": true,
     "schema_version": 3,
     "solution": false,
     "task": false
    }
   },
   "source": [
    "The following plots display the survival rate considering multiple variables. This might exhibit \"multivariate\" or \"compound\" effects on survival."
   ]
  },
  {
   "cell_type": "code",
   "execution_count": null,
   "metadata": {
    "deletable": false,
    "editable": false,
    "nbgrader": {
     "cell_type": "code",
     "checksum": "ce8900daf7543c79a1bbc32bfad1b8fe",
     "grade": false,
     "grade_id": "cell-dc1783efedd02dda",
     "locked": true,
     "schema_version": 3,
     "solution": false,
     "task": false
    }
   },
   "outputs": [],
   "source": [
    "sns.catplot(x=\"Pclass\", y=\"Survived\", hue=\"Sex\", kind=\"bar\", data=titanic)\n",
    "g.set_ylabels(\"survival probability\");"
   ]
  },
  {
   "cell_type": "code",
   "execution_count": null,
   "metadata": {
    "deletable": false,
    "editable": false,
    "nbgrader": {
     "cell_type": "code",
     "checksum": "cc2dcd97480dad90f2d0df916a2126d4",
     "grade": false,
     "grade_id": "cell-af500de4341aa0f0",
     "locked": true,
     "schema_version": 3,
     "solution": false,
     "task": false
    }
   },
   "outputs": [],
   "source": [
    "sns.catplot(y=\"Survived\", x=\"Embarked\", hue=\"Pclass\", kind=\"bar\", data=titanic)\n",
    "g.set_ylabels(\"survival probability\");"
   ]
  },
  {
   "cell_type": "markdown",
   "metadata": {
    "deletable": false,
    "editable": false,
    "nbgrader": {
     "cell_type": "markdown",
     "checksum": "8b184cd24c21f677c2db2f1a50cecf65",
     "grade": false,
     "grade_id": "cell-90bdd7a702d3c4ae",
     "locked": true,
     "schema_version": 3,
     "solution": false,
     "task": false
    }
   },
   "source": [
    "Explore other combinations of features with similar plots.\n",
    "\n",
    "After considering these plots, which variables do you expect to be good predictors of survival?"
   ]
  },
  {
   "cell_type": "markdown",
   "metadata": {
    "deletable": false,
    "nbgrader": {
     "cell_type": "markdown",
     "checksum": "65b7ff4a8eafb70535ad1237d7aabb75",
     "grade": true,
     "grade_id": "cell-162f2ce12f82a874",
     "locked": false,
     "points": 0,
     "schema_version": 3,
     "solution": true,
     "task": false
    }
   },
   "source": [
    "YOUR ANSWER HERE"
   ]
  },
  {
   "cell_type": "markdown",
   "metadata": {
    "deletable": false,
    "editable": false,
    "nbgrader": {
     "cell_type": "markdown",
     "checksum": "d1d89d68a9bf7ead5198ce5695f180ec",
     "grade": false,
     "grade_id": "cell-de262f0ec3c5e423",
     "locked": true,
     "schema_version": 3,
     "solution": false,
     "task": false
    }
   },
   "source": [
    "# Make a predictive model"
   ]
  },
  {
   "cell_type": "markdown",
   "metadata": {
    "deletable": false,
    "editable": false,
    "nbgrader": {
     "cell_type": "markdown",
     "checksum": "5e7e556aa25efb277a967bc8bd04cd8f",
     "grade": false,
     "grade_id": "cell-8937e0946c9fdfea",
     "locked": true,
     "schema_version": 3,
     "solution": false,
     "task": false
    }
   },
   "source": [
    "After this brief exploration of the dataset, let's try to train a model to predict the survival of \"new\" (i.e. unknown) passengers.\n",
    "\n",
    "A *decision tree* classifier will be used to complete this task.\n",
    "\n",
    "To begin with, import the decision tree package (named `tree`) implemented in Scikit Learn (a.k.a. `sklearn`)."
   ]
  },
  {
   "cell_type": "code",
   "execution_count": null,
   "metadata": {
    "deletable": false,
    "editable": false,
    "nbgrader": {
     "cell_type": "code",
     "checksum": "7ea5026a6ec9e4af949f2d54e0df521b",
     "grade": false,
     "grade_id": "cell-7ef50d8b4a9d0d9a",
     "locked": true,
     "schema_version": 3,
     "solution": false,
     "task": false
    }
   },
   "outputs": [],
   "source": [
    "import sklearn.tree"
   ]
  },
  {
   "cell_type": "markdown",
   "metadata": {
    "deletable": false,
    "editable": false,
    "nbgrader": {
     "cell_type": "markdown",
     "checksum": "65e02f7eac47ab2d93d924738456e01a",
     "grade": false,
     "grade_id": "cell-f88c6fc7b3dedc26",
     "locked": true,
     "schema_version": 3,
     "solution": false,
     "task": false
    }
   },
   "source": [
    "Then reload the dataset:"
   ]
  },
  {
   "cell_type": "code",
   "execution_count": null,
   "metadata": {
    "deletable": false,
    "editable": false,
    "nbgrader": {
     "cell_type": "code",
     "checksum": "575c1e3eaabab42006d2aae5094cfe50",
     "grade": false,
     "grade_id": "cell-5301e3725b2e0666",
     "locked": true,
     "schema_version": 3,
     "solution": false,
     "task": false
    }
   },
   "outputs": [],
   "source": [
    "titanic = pd.read_csv(\"https://raw.githubusercontent.com/ogrisel/parallel_ml_tutorial/master/notebooks/titanic_train.csv\")"
   ]
  },
  {
   "cell_type": "markdown",
   "metadata": {
    "deletable": false,
    "editable": false,
    "nbgrader": {
     "cell_type": "markdown",
     "checksum": "1cdfcd76d6ae16a2417efcf2dc7d9ede",
     "grade": false,
     "grade_id": "cell-192243240b3be07d",
     "locked": true,
     "schema_version": 3,
     "solution": false,
     "task": false
    }
   },
   "source": [
    "## Exercise 8\n",
    "\n",
    "Based on investigations made in the exploratory analysis, which variables can be ignored (they cannot convey any meaningful information - think IDs...)? Complete the following cell to remove useless features."
   ]
  },
  {
   "cell_type": "code",
   "execution_count": null,
   "metadata": {
    "deletable": false,
    "nbgrader": {
     "cell_type": "code",
     "checksum": "d21a6a5a46efd8b58b7b677026259320",
     "grade": false,
     "grade_id": "cell-e2bbe6a5c9c2f820",
     "locked": false,
     "schema_version": 3,
     "solution": true,
     "task": false
    }
   },
   "outputs": [],
   "source": [
    "# YOUR CODE HERE\n",
    "raise NotImplementedError()"
   ]
  },
  {
   "cell_type": "code",
   "execution_count": null,
   "metadata": {
    "deletable": false,
    "editable": false,
    "nbgrader": {
     "cell_type": "code",
     "checksum": "d8eb8981c53711be89894f3d7cade6c0",
     "grade": true,
     "grade_id": "cell-c4d608f0eab25512",
     "locked": true,
     "points": 1,
     "schema_version": 3,
     "solution": false,
     "task": false
    }
   },
   "outputs": [],
   "source": []
  },
  {
   "cell_type": "markdown",
   "metadata": {
    "deletable": false,
    "editable": false,
    "nbgrader": {
     "cell_type": "markdown",
     "checksum": "c5f1b19516aaebded908fa744fc91988",
     "grade": false,
     "grade_id": "cell-2e6ed9b44fd9210e",
     "locked": true,
     "schema_version": 3,
     "solution": false,
     "task": false
    }
   },
   "source": [
    "Once you have removed useless variables, remove examples with missing values from the dataset."
   ]
  },
  {
   "cell_type": "code",
   "execution_count": null,
   "metadata": {
    "deletable": false,
    "nbgrader": {
     "cell_type": "code",
     "checksum": "6fceec6e8bd86ff909f9f2c3e91ca24d",
     "grade": false,
     "grade_id": "cell-a7cf35b9f8fb6849",
     "locked": false,
     "schema_version": 3,
     "solution": true,
     "task": false
    }
   },
   "outputs": [],
   "source": [
    "# YOUR CODE HERE\n",
    "raise NotImplementedError()"
   ]
  },
  {
   "cell_type": "code",
   "execution_count": null,
   "metadata": {
    "deletable": false,
    "editable": false,
    "nbgrader": {
     "cell_type": "code",
     "checksum": "bff9860b97ea09dce8e718d5698b20a5",
     "grade": true,
     "grade_id": "cell-d232b59289affc54",
     "locked": true,
     "points": 1,
     "schema_version": 3,
     "solution": false,
     "task": false
    }
   },
   "outputs": [],
   "source": []
  },
  {
   "cell_type": "markdown",
   "metadata": {
    "deletable": false,
    "editable": false,
    "nbgrader": {
     "cell_type": "markdown",
     "checksum": "f02f9b51091a5f26477eb604b7ce78f9",
     "grade": false,
     "grade_id": "cell-a83191723d00c260",
     "locked": true,
     "schema_version": 3,
     "solution": false,
     "task": false
    }
   },
   "source": [
    "Let's finish the dataset cleaning by converting categorical features to numerical ones. This is often required by Machine Learning algorithms' implementations (in particular in `sklearn`) since most os these algorithms rely on matrix calculus / algebra as we will see later on in this course."
   ]
  },
  {
   "cell_type": "code",
   "execution_count": null,
   "metadata": {
    "deletable": false,
    "editable": false,
    "nbgrader": {
     "cell_type": "code",
     "checksum": "6f0aad4bccb1fa609bf9d0bba8af74c3",
     "grade": false,
     "grade_id": "cell-54f412250ce2f213",
     "locked": true,
     "schema_version": 3,
     "solution": false,
     "task": false
    }
   },
   "outputs": [],
   "source": [
    "titanic['Embarked'] = titanic['Embarked'].map({'S': 0, 'C': 1, 'Q': 2}).astype(int)\n",
    "titanic['Sex'] = titanic['Sex'].map({'male': 0, 'female': 1}).astype(int)"
   ]
  },
  {
   "cell_type": "markdown",
   "metadata": {
    "deletable": false,
    "editable": false,
    "nbgrader": {
     "cell_type": "markdown",
     "checksum": "381516d19af016600e3ccdf12cb29a49",
     "grade": false,
     "grade_id": "cell-36d9cc78d4efb0a1",
     "locked": true,
     "schema_version": 3,
     "solution": false,
     "task": false
    }
   },
   "source": [
    "The following cell gives an overview of our dataset (only the first lines displayed)."
   ]
  },
  {
   "cell_type": "code",
   "execution_count": null,
   "metadata": {
    "deletable": false,
    "editable": false,
    "nbgrader": {
     "cell_type": "code",
     "checksum": "d58f7cab8c8677dfb99e91fc134d4cc7",
     "grade": false,
     "grade_id": "cell-6ab0337c74e11cfd",
     "locked": true,
     "schema_version": 3,
     "solution": false,
     "task": false
    }
   },
   "outputs": [],
   "source": [
    "titanic.head()"
   ]
  },
  {
   "cell_type": "markdown",
   "metadata": {
    "deletable": false,
    "editable": false,
    "nbgrader": {
     "cell_type": "markdown",
     "checksum": "a66a2f168048723ffb5a04b0c084f638",
     "grade": false,
     "grade_id": "cell-d460d7ebda4f2c9d",
     "locked": true,
     "schema_version": 3,
     "solution": false,
     "task": false
    }
   },
   "source": [
    "Now that the dataset is ready, we split it in two subsets:\n",
    "- the training set (`X_train` and `Y_train`);\n",
    "- the testing set (`X_test` and `Y_test`).\n",
    "\n",
    "`X_xxx` contains example's *features* and `Y_xxx` contains example's *labels*."
   ]
  },
  {
   "cell_type": "code",
   "execution_count": null,
   "metadata": {
    "deletable": false,
    "editable": false,
    "nbgrader": {
     "cell_type": "code",
     "checksum": "41a94221f986e7ff5d1c003ca166c816",
     "grade": false,
     "grade_id": "cell-69a9803331b87b38",
     "locked": true,
     "schema_version": 3,
     "solution": false,
     "task": false
    }
   },
   "outputs": [],
   "source": [
    "X = titanic.drop(\"Survived\", axis=1)  # X cannot contain the label\n",
    "Y = titanic[\"Survived\"]\n",
    "\n",
    "X_train = X.iloc[:-10]  # all samples except 10 last ones\n",
    "Y_train = Y.iloc[:-10]\n",
    "\n",
    "X_test = X.iloc[-10:]  # 10 last samples\n",
    "Y_test = Y.iloc[-10:]\n",
    "\n",
    "X_train.shape, Y_train.shape, X_test.shape, Y_test.shape"
   ]
  },
  {
   "cell_type": "markdown",
   "metadata": {
    "deletable": false,
    "editable": false,
    "nbgrader": {
     "cell_type": "markdown",
     "checksum": "7f800cfcef8e32c0492ba2841f006e08",
     "grade": false,
     "grade_id": "cell-f1b0d673b7f65615",
     "locked": true,
     "schema_version": 3,
     "solution": false,
     "task": false
    }
   },
   "source": [
    "## Exercise 9\n",
    "\n",
    "Explain qualitatively your intuition about why it is necessary to split the dataset in these two subsets (training set - think **past** results of dice rolls {1, 2, 1} - and testing set - think **new** dice rolls {6, 4}) to understand the behavior / performance a Machine Learning model (think predicting the average of a dice throw)."
   ]
  },
  {
   "cell_type": "markdown",
   "metadata": {
    "deletable": false,
    "nbgrader": {
     "cell_type": "markdown",
     "checksum": "90636ceaddc960bb2b4bf6841b5666e9",
     "grade": true,
     "grade_id": "cell-53ca2e22509dfdcb",
     "locked": false,
     "points": 0,
     "schema_version": 3,
     "solution": true,
     "task": false
    }
   },
   "source": [
    "YOUR ANSWER HERE"
   ]
  },
  {
   "cell_type": "markdown",
   "metadata": {
    "deletable": false,
    "editable": false,
    "nbgrader": {
     "cell_type": "markdown",
     "checksum": "5d6f4651970ecb2a9e4f9375385610a8",
     "grade": false,
     "grade_id": "cell-66def4d1f5684a31",
     "locked": true,
     "schema_version": 3,
     "solution": false,
     "task": false
    }
   },
   "source": [
    "The classifier is instanciated (it is now an object of a class) and trained (thanks to a method implemented in this class) with the following code:"
   ]
  },
  {
   "cell_type": "code",
   "execution_count": null,
   "metadata": {
    "deletable": false,
    "editable": false,
    "nbgrader": {
     "cell_type": "code",
     "checksum": "1cdeaaf159ad309f68df4bec6725ed61",
     "grade": false,
     "grade_id": "cell-a05624b290ec0454",
     "locked": true,
     "schema_version": 3,
     "solution": false,
     "task": false
    }
   },
   "outputs": [],
   "source": [
    "decision_tree = sklearn.tree.DecisionTreeClassifier()\n",
    "\n",
    "decision_tree.fit(X_train, Y_train)"
   ]
  },
  {
   "cell_type": "markdown",
   "metadata": {
    "deletable": false,
    "editable": false,
    "nbgrader": {
     "cell_type": "markdown",
     "checksum": "00d5de8e133ea97ff7a7d0c06997e29a",
     "grade": false,
     "grade_id": "cell-a49cdda84d6ac66b",
     "locked": true,
     "schema_version": 3,
     "solution": false,
     "task": false
    }
   },
   "source": [
    "Note that in `sklearn` most algorithms are implemented as classes.\n",
    "\n",
    "A particular instance is created, and we use class methods such as `fit`, `transform` or `predict` on appropriate arguments to perform operations."
   ]
  },
  {
   "cell_type": "markdown",
   "metadata": {
    "deletable": false,
    "editable": false,
    "nbgrader": {
     "cell_type": "markdown",
     "checksum": "78aa506b7ed1c0b748360dd749a1975d",
     "grade": false,
     "grade_id": "cell-5ecdb42c20db27bb",
     "locked": true,
     "schema_version": 3,
     "solution": false,
     "task": false
    }
   },
   "source": [
    "Then the success rate of predictions is checked on both sets:"
   ]
  },
  {
   "cell_type": "code",
   "execution_count": null,
   "metadata": {
    "deletable": false,
    "editable": false,
    "nbgrader": {
     "cell_type": "code",
     "checksum": "d66be3d5476ef7f5665e82d83caa2638",
     "grade": false,
     "grade_id": "cell-6fd427dd4a8a7594",
     "locked": true,
     "schema_version": 3,
     "solution": false,
     "task": false
    }
   },
   "outputs": [],
   "source": [
    "decision_tree.score(X_train, Y_train)"
   ]
  },
  {
   "cell_type": "code",
   "execution_count": null,
   "metadata": {
    "deletable": false,
    "editable": false,
    "nbgrader": {
     "cell_type": "code",
     "checksum": "0dbe6d17802032b8f3d0302c2d6268e3",
     "grade": false,
     "grade_id": "cell-86d7ede039d45471",
     "locked": true,
     "schema_version": 3,
     "solution": false,
     "task": false
    }
   },
   "outputs": [],
   "source": [
    "decision_tree.score(X_test, Y_test)"
   ]
  },
  {
   "cell_type": "markdown",
   "metadata": {
    "deletable": false,
    "editable": false,
    "nbgrader": {
     "cell_type": "markdown",
     "checksum": "61e2a8f314ed33853d1a6275a21bb8b7",
     "grade": false,
     "grade_id": "cell-e4afca58bc574cc5",
     "locked": true,
     "schema_version": 3,
     "solution": false,
     "task": false
    }
   },
   "source": [
    "Finally we make some predictions and compare them to the truth:"
   ]
  },
  {
   "cell_type": "code",
   "execution_count": null,
   "metadata": {
    "deletable": false,
    "editable": false,
    "nbgrader": {
     "cell_type": "code",
     "checksum": "33bb923b5d6fdecc8003b4de044330a3",
     "grade": false,
     "grade_id": "cell-3e770e997a369ee2",
     "locked": true,
     "schema_version": 3,
     "solution": false,
     "task": false
    }
   },
   "outputs": [],
   "source": [
    "Y_pred = decision_tree.predict(X_test)\n",
    "\n",
    "pd.DataFrame(np.array([Y_pred, Y_test]).T, columns=('Predicted', 'Actual'))"
   ]
  },
  {
   "cell_type": "markdown",
   "metadata": {
    "deletable": false,
    "editable": false,
    "nbgrader": {
     "cell_type": "markdown",
     "checksum": "eda8ed74c9a585ed44ef933b85a83a4c",
     "grade": false,
     "grade_id": "cell-2f0b5ec4c81176e3",
     "locked": true,
     "schema_version": 3,
     "solution": false,
     "task": false
    }
   },
   "source": [
    "## Plot feature importances (for the trained model)"
   ]
  },
  {
   "cell_type": "markdown",
   "metadata": {
    "deletable": false,
    "editable": false,
    "nbgrader": {
     "cell_type": "markdown",
     "checksum": "100246ab2851087bb5d659f3e541876e",
     "grade": false,
     "grade_id": "cell-b350986c393cc626",
     "locked": true,
     "schema_version": 3,
     "solution": false,
     "task": false
    }
   },
   "source": [
    "The following code plot the relative importance of features for the prediction task (for the trained model).\n",
    "\n",
    "(What \"importance\" means is beyond the scope of this lab; the interested reader might refer to `sklearn`'s documentation)"
   ]
  },
  {
   "cell_type": "code",
   "execution_count": null,
   "metadata": {
    "deletable": false,
    "editable": false,
    "nbgrader": {
     "cell_type": "code",
     "checksum": "48d0f3d02f3d8aca325cfd9a12928be0",
     "grade": false,
     "grade_id": "cell-dc526e65ccb97685",
     "locked": true,
     "schema_version": 3,
     "solution": false,
     "task": false
    }
   },
   "outputs": [],
   "source": [
    "imp = pd.DataFrame(decision_tree.feature_importances_,\n",
    "                   index=X_train.columns,\n",
    "                   columns=['Importance'])\n",
    "imp.sort_values(['Importance'], ascending=False)"
   ]
  },
  {
   "cell_type": "code",
   "execution_count": null,
   "metadata": {
    "deletable": false,
    "editable": false,
    "nbgrader": {
     "cell_type": "code",
     "checksum": "14b20c5cfde9a24f82f6ec1cd1e139ac",
     "grade": false,
     "grade_id": "cell-13514f7295759d62",
     "locked": true,
     "schema_version": 3,
     "solution": false,
     "task": false
    }
   },
   "outputs": [],
   "source": [
    "imp.sort_values(['Importance'], ascending=False).plot.bar();"
   ]
  },
  {
   "cell_type": "markdown",
   "metadata": {
    "deletable": false,
    "editable": false,
    "nbgrader": {
     "cell_type": "markdown",
     "checksum": "e8ed788b711383143c15ca829f56ea46",
     "grade": false,
     "grade_id": "cell-bd67318c0a3de76d",
     "locked": true,
     "schema_version": 3,
     "solution": false,
     "task": false
    }
   },
   "source": [
    "## Exercise 10\n",
    "\n",
    "Compare this list to the assumptions made during the exploratory analysis.\n",
    "Have you predicted a similar ranking?"
   ]
  },
  {
   "cell_type": "markdown",
   "metadata": {
    "deletable": false,
    "nbgrader": {
     "cell_type": "markdown",
     "checksum": "cdb329591a4d8e8da1449d908d63f501",
     "grade": true,
     "grade_id": "cell-d8bae2a924185040",
     "locked": false,
     "points": 0,
     "schema_version": 3,
     "solution": true,
     "task": false
    }
   },
   "source": [
    "YOUR ANSWER HERE"
   ]
  },
  {
   "cell_type": "markdown",
   "metadata": {
    "deletable": false,
    "editable": false,
    "nbgrader": {
     "cell_type": "markdown",
     "checksum": "cc1df5c02a74de38985d8ecb10392342",
     "grade": false,
     "grade_id": "cell-0a1661b8b47a6a97",
     "locked": true,
     "schema_version": 3,
     "solution": false,
     "task": false
    }
   },
   "source": [
    "## Display the decision tree"
   ]
  },
  {
   "cell_type": "code",
   "execution_count": null,
   "metadata": {
    "deletable": false,
    "editable": false,
    "nbgrader": {
     "cell_type": "code",
     "checksum": "b18484052e748ee014e4e3999b2557ae",
     "grade": false,
     "grade_id": "cell-86c96e5973263fb5",
     "locked": true,
     "schema_version": 3,
     "solution": false,
     "task": false
    }
   },
   "outputs": [],
   "source": [
    "from sklearn import tree\n",
    "tree.plot_tree(decision_tree);"
   ]
  },
  {
   "cell_type": "markdown",
   "metadata": {
    "deletable": false,
    "editable": false,
    "nbgrader": {
     "cell_type": "markdown",
     "checksum": "1fff8197f009dce20d1dd6b04cd8195f",
     "grade": false,
     "grade_id": "cell-edacebb0ab3aff2e",
     "locked": true,
     "schema_version": 3,
     "solution": false,
     "task": false
    }
   },
   "source": [
    "Something should be striking and feel wrong on this plot... Try to think about what could have happened!"
   ]
  },
  {
   "cell_type": "markdown",
   "metadata": {
    "deletable": false,
    "editable": false,
    "nbgrader": {
     "cell_type": "markdown",
     "checksum": "c310e25d13d7a143e6ecd1e5bab4b8b6",
     "grade": false,
     "grade_id": "cell-a15e8936277e80b7",
     "locked": true,
     "schema_version": 3,
     "solution": false,
     "task": false
    }
   },
   "source": [
    "# Going further\n",
    "\n",
    "Here is a good tutorial to complete the lab session: [Understanding and diagnosing your machine-learning models](http://gael-varoquaux.info/interpreting_ml_tuto/) (by Gael Varoquaux)"
   ]
  }
 ],
 "metadata": {
  "kernelspec": {
   "display_name": "Python 3 (ipykernel)",
   "language": "python",
   "name": "python3"
  },
  "language_info": {
   "codemirror_mode": {
    "name": "ipython",
    "version": 3
   },
   "file_extension": ".py",
   "mimetype": "text/x-python",
   "name": "python",
   "nbconvert_exporter": "python",
   "pygments_lexer": "ipython3",
   "version": "3.12.7"
  },
  "toc-autonumbering": true
 },
 "nbformat": 4,
 "nbformat_minor": 4
}
